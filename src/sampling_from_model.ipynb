{
 "cells": [
  {
   "metadata": {},
   "cell_type": "markdown",
   "source": [
    "# Sampling from a model trained on ACDC dataset\n",
    "\n",
    "**Authors :**\n",
    "* _Louis Lacroix_\n",
    "* _Benjamin Ternot_"
   ],
   "id": "940c27a7798c19bb"
  },
  {
   "metadata": {},
   "cell_type": "markdown",
   "source": "## I. Importing Libraries and Global Settings",
   "id": "ea05585a9ca1b067"
  },
  {
   "metadata": {},
   "cell_type": "code",
   "outputs": [],
   "execution_count": null,
   "source": [
    "import datetime\n",
    "import gc\n",
    "import os\n",
    "from functools import partial\n",
    "\n",
    "import psutil\n",
    "\n",
    "import matplotlib.pyplot as plt\n",
    "import torch\n",
    "import torch.nn as nn\n",
    "from torch.optim import Adam\n",
    "\n",
    "from data_manager.datamanager import DataLoader\n",
    "from models.model import Unet\n",
    "from models.modeltrainer import ModelPreprocessor, DiffusionModelTrainer, Diffusion\n",
    "from utils.utils import VerboseLevel"
   ],
   "id": "4e2ee598b5cfd77c"
  },
  {
   "metadata": {},
   "cell_type": "code",
   "outputs": [],
   "execution_count": null,
   "source": [
    "# Parameters to use for loading the model\n",
    "MODEL_DATETIME = \"\" # Date and time of the model format : \"YYYY-MM-DD_HH-MM-SS\"\n",
    "MODEL_NAME = \"\" # Name of the model (e.g. 'best-epoch-46')\n",
    "MODEL_LOAD_PATH = f\"models/trained_models/{MODEL_DATETIME}_4-channels_{MODEL_NAME}_unet.pt\"\n",
    "PARAMS_LOAD_PATH = f\"models/parameters/{MODEL_DATETIME}_4-channels_params.txt\"\n",
    "\n",
    "VERBOSE=VerboseLevel.DISPLAY\n",
    "# VerboseLevel.NONE to avoid outputs\n",
    "# VerboseLevel.TQDM to use tqdm progress bars\n",
    "# VerboseLevel.PRINT to print information\n",
    "# VerboseLevel.DISPLAY to display images\n",
    "\n",
    "# Execution parameters\n",
    "CUDA_DEVICE = 0"
   ],
   "id": "5ce828acdbee65e3"
  },
  {
   "metadata": {},
   "cell_type": "code",
   "outputs": [],
   "execution_count": null,
   "source": [
    "# Load parameters from file\n",
    "loaded_params = {}\n",
    "with open(PARAMS_LOAD_PATH, \"r\") as file:\n",
    "    for line in file:\n",
    "        # Strip any whitespace and split key-value pairs\n",
    "        key, value = line.strip().split(\" = \")\n",
    "        # Convert the value back to its original type (e.g., int, float, list, etc.)\n",
    "        try:\n",
    "            loaded_params[key] = eval(value)\n",
    "        except:\n",
    "            loaded_params[key] = value\n",
    "\n",
    "# Assign loaded parameters back to your variables\n",
    "IMAGE_SIZE = loaded_params.get(\"IMAGE_SIZE\")\n",
    "MULTI_CHANNEL = loaded_params.get(\"MULTI_CHANNEL\")\n",
    "BATCH_SIZE = loaded_params.get(\"BATCH_SIZE\")\n",
    "EPOCHS = loaded_params.get(\"EPOCHS\")\n",
    "T = loaded_params.get(\"T\")\n",
    "DIM_MULTS = loaded_params.get(\"DIM_MULTS\")\n",
    "\n",
    "print(f\"Parameters loaded from '{PARAMS_LOAD_PATH}'\\n\")\n",
    "\n",
    "# Display loaded parameters\n",
    "print(\"Loaded Parameters:\")\n",
    "for key, value in loaded_params.items():\n",
    "    print(f\"- {key}: {value} {type(value)}\")"
   ],
   "id": "f40423904d5286fa"
  },
  {
   "metadata": {},
   "cell_type": "markdown",
   "source": "## II. Loading the model",
   "id": "1434623c939d559c"
  },
  {
   "metadata": {},
   "cell_type": "code",
   "outputs": [],
   "execution_count": null,
   "source": "DEVICE = torch.device(f\"cuda:{CUDA_DEVICE}\" if torch.cuda.is_available() else \"cpu\")",
   "id": "b4ad10650bc2adc1"
  },
  {
   "metadata": {},
   "cell_type": "code",
   "outputs": [],
   "execution_count": null,
   "source": [
    "model = Unet(\n",
    "        dim=IMAGE_SIZE,\n",
    "        init_dim=None,\n",
    "        out_dim=None,\n",
    "        dim_mults=DIM_MULTS,\n",
    "        channels=4 if MULTI_CHANNEL else 1,\n",
    "        with_time_emb=True,\n",
    "        convnext_mult=2,\n",
    "    ).to(DEVICE)\n",
    "model.load_state_dict(torch.load(MODEL_LOAD_PATH, weights_only=True, map_location=torch.device(DEVICE)))\n",
    "model.eval()"
   ],
   "id": "f63ddfbb6359513a"
  }
 ],
 "metadata": {
  "kernelspec": {
   "display_name": "Python 3",
   "language": "python",
   "name": "python3"
  },
  "language_info": {
   "codemirror_mode": {
    "name": "ipython",
    "version": 2
   },
   "file_extension": ".py",
   "mimetype": "text/x-python",
   "name": "python",
   "nbconvert_exporter": "python",
   "pygments_lexer": "ipython2",
   "version": "2.7.6"
  }
 },
 "nbformat": 4,
 "nbformat_minor": 5
}
