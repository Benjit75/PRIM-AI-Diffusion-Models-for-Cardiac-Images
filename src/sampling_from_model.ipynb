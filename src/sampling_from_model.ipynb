{
 "cells": [
  {
   "metadata": {},
   "cell_type": "markdown",
   "source": [
    "# Sampling from a model trained on ACDC dataset\n",
    "\n",
    "**Authors :**\n",
    "* _Louis Lacroix_\n",
    "* _Benjamin Ternot_"
   ],
   "id": "940c27a7798c19bb"
  },
  {
   "metadata": {},
   "cell_type": "markdown",
   "source": "## I. Importing Libraries and Global Settings",
   "id": "ea05585a9ca1b067"
  },
  {
   "metadata": {},
   "cell_type": "code",
   "source": [
    "import datetime\n",
    "from functools import partial\n",
    "import os\n",
    "\n",
    "import torch\n",
    "\n",
    "from data_manager.datamanager import DataDisplayer\n",
    "from models.model import Unet\n",
    "from models.modeltrainer import DiffusionModelSampler, Diffusion\n",
    "from utils.utils import VerboseLevel"
   ],
   "id": "4e2ee598b5cfd77c",
   "outputs": [],
   "execution_count": null
  },
  {
   "metadata": {},
   "cell_type": "code",
   "source": [
    "# Define the root resources folder\n",
    "ROOT_RES_FOLDER = os.path.join(os.path.dirname(os.getcwd()), 'resources')\n",
    "\n",
    "# Parameters to use for loading the model\n",
    "MODEL_DATETIME = \"\" # Date and time of the model format : \"YYYY-mm-dd-HH-MM\"\n",
    "MODEL_NAME = \"\" # Name of the model (e.g. 'best-epoch-46')\n",
    "MODEL_LOAD_PATH = os.path.join(ROOT_RES_FOLDER, \"trained_models\",f\"{MODEL_DATETIME}_4-channels\",f\"{MODEL_NAME}_unet.pt\")\n",
    "PARAMS_LOAD_PATH = os.path.join(ROOT_RES_FOLDER, \"trained_models\",f\"{MODEL_DATETIME}_4-channels\",f\"params.txt\")\n",
    "\n",
    "current_datetime = datetime.datetime.now().strftime(\"%Y-%m-%d-%H-%M\")\n",
    "\n",
    "# Parameters for saving images\n",
    "SAVE_IMAGES_FOLDER = os.path.join(ROOT_RES_FOLDER, \"images\",f\"{MODEL_DATETIME}_4-channels\",\"sampling\",MODEL_NAME,current_datetime)\n",
    "SAVE_IMAGES_PATH = os.path.join(SAVE_IMAGES_FOLDER, \"{}\")\n",
    "\n",
    "# Create folders to save the images\n",
    "os.makedirs(SAVE_IMAGES_FOLDER, exist_ok=True)\n",
    "\n",
    "VERBOSE=VerboseLevel.DISPLAY\n",
    "# VerboseLevel.NONE to avoid outputs\n",
    "# VerboseLevel.TQDM to use tqdm progress bars\n",
    "# VerboseLevel.PRINT to print information\n",
    "# VerboseLevel.DISPLAY to display images\n",
    "\n",
    "# Execution parameters\n",
    "CUDA_DEVICE = 0"
   ],
   "id": "e372de96a82fe3cf",
   "outputs": [],
   "execution_count": null
  },
  {
   "metadata": {},
   "cell_type": "code",
   "source": "DEVICE = torch.device(f\"cuda:{CUDA_DEVICE}\" if torch.cuda.is_available() else \"cpu\")",
   "id": "c44520b38cad423b",
   "outputs": [],
   "execution_count": null
  },
  {
   "metadata": {},
   "cell_type": "markdown",
   "source": "## II. Loading the model",
   "id": "1434623c939d559c"
  },
  {
   "metadata": {},
   "cell_type": "code",
   "source": [
    "diffusion_model_sampler = DiffusionModelSampler(\n",
    "    path_params=PARAMS_LOAD_PATH,\n",
    "    path_model=MODEL_LOAD_PATH,\n",
    "    device=DEVICE,\n",
    "    model_class=Unet,\n",
    "    model_params={'init_dim':None, 'out_dim':None, 'with_time_emb':True, 'convnext_mult':2},\n",
    "    constants_scheduler=partial(Diffusion.cosine_beta_schedule, s=0.008),\n",
    "    verbose=VERBOSE\n",
    ")"
   ],
   "id": "f63ddfbb6359513a",
   "outputs": [],
   "execution_count": null
  },
  {
   "metadata": {},
   "cell_type": "code",
   "source": "generated_images = diffusion_model_sampler.sample_images()",
   "id": "fe4a2bbaa40c0a0",
   "outputs": [],
   "execution_count": null
  },
  {
   "metadata": {},
   "cell_type": "code",
   "source": [
    "# Display the generated images\n",
    "DataDisplayer.display_batch(\n",
    "    batch=generated_images[-1],\n",
    "    show=VERBOSE >= VerboseLevel.DISPLAY,\n",
    "    filename= SAVE_IMAGES_PATH.format(\"generated-batch.jpg\"),\n",
    "    title=f\"Generated sample from model\\n{MODEL_DATETIME}-{MODEL_NAME}\\n\",\n",
    "    one_hot_encode=False\n",
    ")\n",
    "DataDisplayer.display_batch(\n",
    "    batch=generated_images[-1],\n",
    "    show=VERBOSE >= VerboseLevel.DISPLAY,\n",
    "    filename= SAVE_IMAGES_PATH.format(\"generated-batch-one-hot.jpg\"),\n",
    "    title=f\"Generated sample from model\\n{MODEL_DATETIME}-{MODEL_NAME}\\nOne-hot encoded\\n\",\n",
    "    one_hot_encode=True\n",
    ")"
   ],
   "id": "7250298c370d4278",
   "outputs": [],
   "execution_count": null
  },
  {
   "metadata": {},
   "cell_type": "code",
   "source": [
    "# Display the gif of the generated images\n",
    "DataDisplayer.make_gif(\n",
    "    frame_list=generated_images,\n",
    "    filename=SAVE_IMAGES_PATH.format(\"generated.gif.png\"),\n",
    "    step=len(generated_images)//50,\n",
    "    one_hot_encode=False,\n",
    "    verbose=VERBOSE\n",
    ")\n",
    "\n",
    "# Display the gif of the generated images one-hot encoded\n",
    "DataDisplayer.make_gif(\n",
    "    frame_list=generated_images,\n",
    "    filename=SAVE_IMAGES_PATH.format(\"generated-one-hot.gif.png\"),\n",
    "    step=len(generated_images)//50,\n",
    "    one_hot_encode=True,\n",
    "    verbose=VERBOSE\n",
    ")"
   ],
   "id": "f04d2d7bf6f0b4a7",
   "outputs": [],
   "execution_count": null
  }
 ],
 "metadata": {
  "kernelspec": {
   "display_name": "Python 3",
   "language": "python",
   "name": "python3"
  },
  "language_info": {
   "codemirror_mode": {
    "name": "ipython",
    "version": 2
   },
   "file_extension": ".py",
   "mimetype": "text/x-python",
   "name": "python",
   "nbconvert_exporter": "python",
   "pygments_lexer": "ipython2",
   "version": "2.7.6"
  }
 },
 "nbformat": 4,
 "nbformat_minor": 5
}
