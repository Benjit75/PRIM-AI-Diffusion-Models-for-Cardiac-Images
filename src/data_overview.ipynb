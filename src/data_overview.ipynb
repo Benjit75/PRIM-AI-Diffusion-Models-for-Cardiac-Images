{
 "cells": [
  {
   "cell_type": "markdown",
   "id": "d205749481fd995",
   "metadata": {},
   "source": [
    "# Data Overview\n",
    "**Authors :**\n",
    "   * _Louis Lacroix_\n",
    "   * _Benjamin Ternot_"
   ]
  },
  {
   "cell_type": "markdown",
   "id": "982617fb366bdf25",
   "metadata": {},
   "source": [
    "## I. Importing Libraries and Global Settings"
   ]
  },
  {
   "cell_type": "code",
   "id": "initial_id",
   "metadata": {},
   "source": [
    "import os\n",
    "\n",
    "import matplotlib.pyplot as plt\n",
    "\n",
    "from data_manager.datamanager import DataLoader, DataDisplayer"
   ],
   "outputs": [],
   "execution_count": null
  },
  {
   "cell_type": "code",
   "id": "e0ddae3d0ac6bef0",
   "metadata": {},
   "source": [
    "# Modifier les couleurs des textes et des axes en fonction du thème de Jupyter\n",
    "DARK_BG = False\n",
    "\n",
    "if DARK_BG:\n",
    "    plt.rcParams['text.color'] = 'white'\n",
    "    plt.rcParams['axes.labelcolor'] = 'white'\n",
    "    plt.rcParams['xtick.color'] = 'white'\n",
    "    plt.rcParams['ytick.color'] = 'white'\n",
    "    plt.rcParams['axes.titlecolor'] = 'white'\n",
    "else:\n",
    "    plt.rcParams['text.color'] = 'black'\n",
    "    plt.rcParams['axes.labelcolor'] = 'black'\n",
    "    plt.rcParams['xtick.color'] = 'black'\n",
    "    plt.rcParams['ytick.color'] = 'black'\n",
    "    plt.rcParams['axes.titlecolor'] = 'black'"
   ],
   "outputs": [],
   "execution_count": null
  },
  {
   "cell_type": "code",
   "id": "b1bb50f2364e0904",
   "metadata": {},
   "source": [
    "# Define the root data folder\n",
    "root_data_folder = os.path.join(os.path.dirname(os.getcwd()), 'database')\n",
    "\n",
    "# Define the sub path to the folders containing the data\n",
    "data_sub_folders = {\n",
    "    \"train\": \"training\",\n",
    "    \"test\": \"testing\",\n",
    "}\n",
    "\n",
    "# Define the mapping from group labels to diagnostic classes\n",
    "group_map = {\n",
    "    \"NOR\": \"Healthy control\",\n",
    "    \"MINF\": \"Myocardial infarction\",\n",
    "    \"DCM\": \"Dilated cardiomyopathy\",\n",
    "    \"HCM\": \"Hypertrophic cardiomyopathy\",\n",
    "    \"RV\": \"Abnormal right ventricle\"\n",
    "}"
   ],
   "outputs": [],
   "execution_count": null
  },
  {
   "cell_type": "markdown",
   "id": "4bcc2e0bfa30b761",
   "metadata": {},
   "source": [
    "## II. Data Loading and Displaying"
   ]
  },
  {
   "cell_type": "code",
   "id": "92d294d5b1f177b1",
   "metadata": {},
   "source": [
    "# Create a DataLoader instance\n",
    "data_loader = DataLoader(root_data_folder)\n",
    "\n",
    "# Load the data\n",
    "for key, sub_folder in data_sub_folders.items():\n",
    "    data_loader.load_data(sub_folder, name=key, store=True)\n"
   ],
   "outputs": [],
   "execution_count": null
  },
  {
   "cell_type": "code",
   "id": "9cde20899bddf38f",
   "metadata": {},
   "source": [
    "# Initialize the DataDisplayer with the DataLoader instance\n",
    "data_displayer = DataDisplayer(data_loader, group_map=group_map)"
   ],
   "outputs": [],
   "execution_count": null
  },
  {
   "cell_type": "code",
   "id": "3b87b8415ceccc12",
   "metadata": {},
   "source": [
    "# Display as an arborescence the dataloader.data dictionary\n",
    "print(data_displayer.display_data_arborescence('data_loader.data', max_keys={1: 2}))\n",
    "\n",
    "# Display some examples\n",
    "data_displayer.display_examples(nb_examples=1, per_combination=True, sort_by=('data_name', 'group', 'id'), format_sep=('#' * 90, '-' * 60, ''), format_categories=('{} data :\\n', '{} :', '\\n'))"
   ],
   "outputs": [],
   "execution_count": null
  },
  {
   "cell_type": "markdown",
   "id": "e9527085abee0e5e",
   "metadata": {},
   "source": [
    "## III. Data Overview"
   ]
  },
  {
   "cell_type": "code",
   "id": "d0b519c000a489d0",
   "metadata": {},
   "source": [
    "# Show repartition of shape of the images\n",
    "shape_dict = {}\n",
    "for dataset_key, dataset in data_loader.data.items():\n",
    "    for patient, patient_data in dataset.items():\n",
    "        for image_name, image in patient_data['image_data'].items():\n",
    "            shape = image.shape\n",
    "            if shape not in shape_dict:\n",
    "                shape_dict[shape] = 1\n",
    "            else:\n",
    "                shape_dict[shape] += 1\n",
    "\n",
    "print(\n",
    "    f'There are {len(shape_dict)} different shapes in the data'\n",
    "    f'\\nX axis varies from {min([shape[0] for shape in shape_dict.keys()])} to {max([shape[0] for shape in shape_dict.keys()])}'\n",
    "    f'\\nY axis varies from {min([shape[1] for shape in shape_dict.keys()])} to {max([shape[1] for shape in shape_dict.keys()])}'\n",
    "    f'\\nZ axis varies from {min([shape[2] for shape in shape_dict.keys()])} to {max([shape[2] for shape in shape_dict.keys()])}'\n",
    "    f'\\nAspect ratio (X/Y) varies from {min([shape[0] / shape[1] for shape in shape_dict.keys()])} to {max([shape[0] / shape[1] for shape in shape_dict.keys()])}'\n",
    ")\n",
    "# plot the repartition of the aspect ratio\n",
    "plt.figure(figsize=(10, 6))\n",
    "plt.hist([shape[0] / shape[1] for shape in shape_dict.keys()], bins=20, color='skyblue', edgecolor='black')\n",
    "plt.title('Aspect ratio distribution')\n",
    "plt.xlabel('Aspect ratio (X/Y)')\n",
    "plt.ylabel('Number of images')\n",
    "plt.show()"
   ],
   "outputs": [],
   "execution_count": null
  }
 ],
 "metadata": {
  "kernelspec": {
   "display_name": "Python 3 (ipykernel)",
   "language": "python",
   "name": "python3"
  },
  "language_info": {
   "codemirror_mode": {
    "name": "ipython",
    "version": 3
   },
   "file_extension": ".py",
   "mimetype": "text/x-python",
   "name": "python",
   "nbconvert_exporter": "python",
   "pygments_lexer": "ipython3",
   "version": "3.12.3"
  }
 },
 "nbformat": 4,
 "nbformat_minor": 5
}
