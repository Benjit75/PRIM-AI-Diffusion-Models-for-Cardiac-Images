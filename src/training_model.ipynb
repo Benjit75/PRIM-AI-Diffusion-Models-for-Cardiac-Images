{
 "cells": [
  {
   "cell_type": "markdown",
   "id": "d85cb06818d795a9",
   "metadata": {},
   "source": [
    "# Training a model from ACDC dataset\n",
    "\n",
    "**Authors :**\n",
    "* _Louis Lacroix_\n",
    "* _Benjamin Ternot_"
   ]
  },
  {
   "cell_type": "markdown",
   "id": "6eb440fcdd4469a8",
   "metadata": {},
   "source": [
    "## I. Importing Libraries and Global Settings"
   ]
  },
  {
   "cell_type": "code",
   "execution_count": 14,
   "id": "5da660255e85029d",
   "metadata": {},
   "outputs": [],
   "source": [
    "import datetime\n",
    "import gc\n",
    "import os\n",
    "from functools import partial\n",
    "\n",
    "import psutil\n",
    "\n",
    "import matplotlib.pyplot as plt\n",
    "import torch\n",
    "import torch.nn as nn\n",
    "from torch.optim import Adam\n",
    "\n",
    "from data_manager.datamanager import DataLoader\n",
    "from models.model import Unet\n",
    "from models.modeltrainer import ModelPreprocessor, DiffusionModelTrainer, Diffusion\n",
    "from utils.utils import VerboseLevel"
   ]
  },
  {
   "cell_type": "code",
   "execution_count": 15,
   "id": "initial_id",
   "metadata": {},
   "outputs": [],
   "source": [
    "# Parameters to use for the preprocessing\n",
    "IMAGE_SIZE=16\n",
    "PADDING=0.2\n",
    "IMAGE_NAMES=[\"ED_gt\", \"ES_gt\"]\n",
    "LINK_GT_TO_DATA=False\n",
    "KEEP_3D_CONSISTENCY=False\n",
    "CHANNELS=4\n",
    "RESCALE_OUTPUT_KEY=\"rescaled_image_data\"\n",
    "MAX_ANGLE=45\n",
    "NB_ROTATIONS=7\n",
    "VERBOSE=VerboseLevel.DISPLAY\n",
    "# VerboseLevel.NONE to avoid outputs\n",
    "# VerboseLevel.TQDM to use tqdm progress bars\n",
    "# VerboseLevel.PRINT to print information\n",
    "# VerboseLevel.DISPLAY to display images\n",
    "\n",
    "# Execution parameters\n",
    "LIBERATE_MEMORY=True\n",
    "CUDA_DEVICE = 1\n",
    "\n",
    "# Parameters for the model training\n",
    "SAVE_MODEL = True\n",
    "SAVE_INTERMEDIATE_MODELS = {\"toggle\": False, \"frequency\": 20}\n",
    "\n",
    "# Model parameters\n",
    "BATCH_SIZE = 64\n",
    "EPOCHS = 100\n",
    "T = 1000\n",
    "DIM_MULTS = (1, 2, 4)#, 8)"
   ]
  },
  {
   "cell_type": "code",
   "execution_count": 16,
   "id": "712cb98b9c7344e1",
   "metadata": {},
   "outputs": [],
   "source": [
    "# Modifier les couleurs des textes et des axes en fonction du thème de Jupyter\n",
    "DARK_BG = False\n",
    "\n",
    "if DARK_BG:\n",
    "    plt.rcParams['text.color'] = 'black'\n",
    "    plt.rcParams['axes.labelcolor'] = 'white'\n",
    "    plt.rcParams['xtick.color'] = 'white'\n",
    "    plt.rcParams['ytick.color'] = 'white'\n",
    "    plt.rcParams['axes.titlecolor'] = 'white'\n",
    "else:\n",
    "    plt.rcParams['text.color'] = 'black'\n",
    "    plt.rcParams['axes.labelcolor'] = 'black'\n",
    "    plt.rcParams['xtick.color'] = 'black'\n",
    "    plt.rcParams['ytick.color'] = 'black'\n",
    "    plt.rcParams['axes.titlecolor'] = 'black'"
   ]
  },
  {
   "cell_type": "markdown",
   "id": "35c5d30b979106fa",
   "metadata": {},
   "source": [
    "## II. Data Loading and Preprocessing"
   ]
  },
  {
   "cell_type": "code",
   "execution_count": 17,
   "id": "d3681fd0f7898e25",
   "metadata": {},
   "outputs": [],
   "source": [
    "# Define the root data folder\n",
    "root_data_folder = os.path.join(os.path.dirname(os.getcwd()), 'database')\n",
    "\n",
    "# Define the sub path to the folders containing the data\n",
    "data_sub_folders = {\n",
    "    \"train\": \"training\",\n",
    "    \"test\": \"testing\",\n",
    "}\n",
    "\n",
    "# Define the mapping from group labels to diagnostic classes\n",
    "group_map = {\n",
    "    \"NOR\": \"Healthy control\",\n",
    "    \"MINF\": \"Myocardial infarction\",\n",
    "    \"DCM\": \"Dilated cardiomyopathy\",\n",
    "    \"HCM\": \"Hypertrophic cardiomyopathy\",\n",
    "    \"RV\": \"Abnormal right ventricle\"\n",
    "}"
   ]
  },
  {
   "cell_type": "code",
   "execution_count": 18,
   "id": "6d2aaa41e372e1dc",
   "metadata": {},
   "outputs": [
    {
     "data": {
      "application/vnd.jupyter.widget-view+json": {
       "model_id": "4ca8d7782a244652a190977b2ca427a7",
       "version_major": 2,
       "version_minor": 0
      },
      "text/plain": [
       "Loading data in '/home/infres/bternot-21/PRIM-AI-Diffusion-Models-for-Cardiac-Images/database/training':   0%|…"
      ]
     },
     "metadata": {},
     "output_type": "display_data"
    },
    {
     "data": {
      "application/vnd.jupyter.widget-view+json": {
       "model_id": "feabd8904aa5422c8deaec34900073e1",
       "version_major": 2,
       "version_minor": 0
      },
      "text/plain": [
       "Loading data in '/home/infres/bternot-21/PRIM-AI-Diffusion-Models-for-Cardiac-Images/database/testing':   0%| …"
      ]
     },
     "metadata": {},
     "output_type": "display_data"
    }
   ],
   "source": [
    "# Create the data loader\n",
    "data_loader = DataLoader(root_folder=root_data_folder)\n",
    "\n",
    "# Load the data\n",
    "for key, sub_folder in data_sub_folders.items():\n",
    "    data_loader.load_data(sub_folder, name=key, store=True, verbose=VERBOSE)\n",
    "\n",
    "# Create the model trainer\n",
    "model_preprocessor = ModelPreprocessor(data_loader, group_map)"
   ]
  },
  {
   "cell_type": "code",
   "execution_count": 19,
   "id": "d8f9a2e1b84fda18",
   "metadata": {},
   "outputs": [
    {
     "data": {
      "application/vnd.jupyter.widget-view+json": {
       "model_id": "f87efa962138434196039b6b1cb1a9c9",
       "version_major": 2,
       "version_minor": 0
      },
      "text/plain": [
       "Transforming images in 'train':   0%|          | 0/100 [00:00<?, ?it/s]"
      ]
     },
     "metadata": {},
     "output_type": "display_data"
    },
    {
     "data": {
      "application/vnd.jupyter.widget-view+json": {
       "model_id": "3416954e69304f71ab3dce76d5398808",
       "version_major": 2,
       "version_minor": 0
      },
      "text/plain": [
       "Transforming images in 'test':   0%|          | 0/50 [00:00<?, ?it/s]"
      ]
     },
     "metadata": {},
     "output_type": "display_data"
    },
    {
     "name": "stdout",
     "output_type": "stream",
     "text": [
      "data_loader.data\n",
      "├── train\n",
      "│\t├── patient093\n",
      "│\t│\t├── image_data\n",
      "│\t│\t│\t├── ED\n",
      "│\t│\t│\t├── ED_gt\n",
      "│\t│\t│\t├── ES\n",
      "│\t│\t│\t├── ES_gt\n",
      "│\t│\t├── height\n",
      "│\t│\t├── weight\n",
      "│\t│\t├── group\n",
      "│\t│\t├── nb_frames\n",
      "│\t│\t├── rescaled_image_data\n",
      "│\t│\t│\t├── ED_gt\n",
      "│\t│\t│\t├── ES_gt\n",
      "│\t├── patient077\n",
      "│\t│\t├── image_data\n",
      "│\t│\t│\t├── ED\n",
      "│\t│\t│\t├── ED_gt\n",
      "│\t│\t│\t├── ES\n",
      "│\t│\t│\t├── ES_gt\n",
      "│\t│\t├── height\n",
      "│\t│\t├── weight\n",
      "│\t│\t├── group\n",
      "│\t│\t├── nb_frames\n",
      "│\t│\t├── rescaled_image_data\n",
      "│\t│\t│\t├── ED_gt\n",
      "│\t│\t│\t├── ES_gt\n",
      "│\t├── patient099\n",
      "│\t│\t├── image_data\n",
      "│\t│\t│\t├── ED\n",
      "│\t│\t│\t├── ED_gt\n",
      "│\t│\t│\t├── ES\n",
      "│\t│\t│\t├── ES_gt\n",
      "│\t│\t├── height\n",
      "│\t│\t├── weight\n",
      "│\t│\t├── group\n",
      "│\t│\t├── nb_frames\n",
      "│\t│\t├── rescaled_image_data\n",
      "│\t│\t│\t├── ED_gt\n",
      "│\t│\t│\t├── ES_gt\n",
      "│\t├── patient038\n",
      "│\t│\t├── image_data\n",
      "│\t│\t│\t├── ED\n",
      "│\t│\t│\t├── ED_gt\n",
      "│\t│\t│\t├── ES\n",
      "│\t│\t│\t├── ES_gt\n",
      "│\t│\t├── height\n",
      "│\t│\t├── weight\n",
      "│\t│\t├── group\n",
      "│\t│\t├── nb_frames\n",
      "│\t│\t├── rescaled_image_data\n",
      "│\t│\t│\t├── ED_gt\n",
      "│\t│\t│\t├── ES_gt\n",
      "│\t├── patient032\n",
      "│\t│\t├── image_data\n",
      "│\t│\t│\t├── ED\n",
      "│\t│\t│\t├── ED_gt\n",
      "│\t│\t│\t├── ES\n",
      "│\t│\t│\t├── ES_gt\n",
      "│\t│\t├── height\n",
      "│\t│\t├── weight\n",
      "│\t│\t├── group\n",
      "│\t│\t├── nb_frames\n",
      "│\t│\t├── rescaled_image_data\n",
      "│\t│\t│\t├── ED_gt\n",
      "│\t│\t│\t├── ES_gt\n",
      "│\t├── patient045\n",
      "│\t│\t├── image_data\n",
      "│\t│\t│\t├── ED\n",
      "│\t│\t│\t├── ED_gt\n",
      "│\t│\t│\t├── ES\n",
      "│\t│\t│\t├── ES_gt\n",
      "│\t│\t├── height\n",
      "│\t│\t├── weight\n",
      "│\t│\t├── group\n",
      "│\t│\t├── nb_frames\n",
      "│\t│\t├── rescaled_image_data\n",
      "│\t│\t│\t├── ED_gt\n",
      "│\t│\t│\t├── ES_gt\n",
      "│\t├── patient064\n",
      "│\t│\t├── image_data\n",
      "│\t│\t│\t├── ED\n",
      "│\t│\t│\t├── ED_gt\n",
      "│\t│\t│\t├── ES\n",
      "│\t│\t│\t├── ES_gt\n",
      "│\t│\t├── height\n",
      "│\t│\t├── weight\n",
      "│\t│\t├── group\n",
      "│\t│\t├── nb_frames\n",
      "│\t│\t├── rescaled_image_data\n",
      "│\t│\t│\t├── ED_gt\n",
      "│\t│\t│\t├── ES_gt\n",
      "│\t├── ...\n",
      "├── test\n",
      "│\t├── patient125\n",
      "│\t│\t├── image_data\n",
      "│\t│\t│\t├── ED\n",
      "│\t│\t│\t├── ED_gt\n",
      "│\t│\t│\t├── ES\n",
      "│\t│\t│\t├── ES_gt\n",
      "│\t│\t├── height\n",
      "│\t│\t├── weight\n",
      "│\t│\t├── group\n",
      "│\t│\t├── nb_frames\n",
      "│\t│\t├── rescaled_image_data\n",
      "│\t│\t│\t├── ED_gt\n",
      "│\t│\t│\t├── ES_gt\n",
      "│\t├── patient117\n",
      "│\t│\t├── image_data\n",
      "│\t│\t│\t├── ED\n",
      "│\t│\t│\t├── ED_gt\n",
      "│\t│\t│\t├── ES\n",
      "│\t│\t│\t├── ES_gt\n",
      "│\t│\t├── height\n",
      "│\t│\t├── weight\n",
      "│\t│\t├── group\n",
      "│\t│\t├── nb_frames\n",
      "│\t│\t├── rescaled_image_data\n",
      "│\t│\t│\t├── ED_gt\n",
      "│\t│\t│\t├── ES_gt\n",
      "│\t├── patient141\n",
      "│\t│\t├── image_data\n",
      "│\t│\t│\t├── ED\n",
      "│\t│\t│\t├── ED_gt\n",
      "│\t│\t│\t├── ES\n",
      "│\t│\t│\t├── ES_gt\n",
      "│\t│\t├── height\n",
      "│\t│\t├── weight\n",
      "│\t│\t├── group\n",
      "│\t│\t├── nb_frames\n",
      "│\t│\t├── rescaled_image_data\n",
      "│\t│\t│\t├── ED_gt\n",
      "│\t│\t│\t├── ES_gt\n",
      "│\t├── patient136\n",
      "│\t│\t├── image_data\n",
      "│\t│\t│\t├── ED\n",
      "│\t│\t│\t├── ED_gt\n",
      "│\t│\t│\t├── ES\n",
      "│\t│\t│\t├── ES_gt\n",
      "│\t│\t├── height\n",
      "│\t│\t├── weight\n",
      "│\t│\t├── group\n",
      "│\t│\t├── nb_frames\n",
      "│\t│\t├── rescaled_image_data\n",
      "│\t│\t│\t├── ED_gt\n",
      "│\t│\t│\t├── ES_gt\n",
      "│\t├── patient104\n",
      "│\t│\t├── image_data\n",
      "│\t│\t│\t├── ED\n",
      "│\t│\t│\t├── ED_gt\n",
      "│\t│\t│\t├── ES\n",
      "│\t│\t│\t├── ES_gt\n",
      "│\t│\t├── height\n",
      "│\t│\t├── weight\n",
      "│\t│\t├── group\n",
      "│\t│\t├── nb_frames\n",
      "│\t│\t├── rescaled_image_data\n",
      "│\t│\t│\t├── ED_gt\n",
      "│\t│\t│\t├── ES_gt\n",
      "│\t├── patient103\n",
      "│\t│\t├── image_data\n",
      "│\t│\t│\t├── ED\n",
      "│\t│\t│\t├── ED_gt\n",
      "│\t│\t│\t├── ES\n",
      "│\t│\t│\t├── ES_gt\n",
      "│\t│\t├── height\n",
      "│\t│\t├── weight\n",
      "│\t│\t├── group\n",
      "│\t│\t├── nb_frames\n",
      "│\t│\t├── rescaled_image_data\n",
      "│\t│\t│\t├── ED_gt\n",
      "│\t│\t│\t├── ES_gt\n",
      "│\t├── patient109\n",
      "│\t│\t├── image_data\n",
      "│\t│\t│\t├── ED\n",
      "│\t│\t│\t├── ED_gt\n",
      "│\t│\t│\t├── ES\n",
      "│\t│\t│\t├── ES_gt\n",
      "│\t│\t├── height\n",
      "│\t│\t├── weight\n",
      "│\t│\t├── group\n",
      "│\t│\t├── nb_frames\n",
      "│\t│\t├── rescaled_image_data\n",
      "│\t│\t│\t├── ED_gt\n",
      "│\t│\t│\t├── ES_gt\n",
      "│\t├── ...\n",
      "##########################################################################################\n",
      "test data :\n",
      "\t------------------------------------------------------------\n",
      "\tDilated cardiomyopathy :\t\t\n",
      "\t\t\n",
      "\t\t\tID: patient113, height: 183.0cm, weight: 95.0kg, group: DCM, nb_frames: 15\n"
     ]
    },
    {
     "data": {
      "image/png": "[encoded data removed]",
      "text/plain": [
       "<Figure size 1000x1000 with 2 Axes>"
      ]
     },
     "metadata": {},
     "output_type": "display_data"
    },
    {
     "name": "stdout",
     "output_type": "stream",
     "text": [
      "\t------------------------------------------------------------\n",
      "\tHypertrophic cardiomyopathy :\t\t\n",
      "\t\t\n",
      "\t\t\tID: patient142, height: 160.0cm, weight: 98.0kg, group: HCM, nb_frames: 30\n"
     ]
    },
    {
     "data": {
      "image/png": "[encoded data removed]",
      "text/plain": [
       "<Figure size 1000x1000 with 2 Axes>"
      ]
     },
     "metadata": {},
     "output_type": "display_data"
    },
    {
     "name": "stdout",
     "output_type": "stream",
     "text": [
      "\t------------------------------------------------------------\n",
      "\tMyocardial infarction :\t\t\n",
      "\t\t\n",
      "\t\t\tID: patient137, height: 170.0cm, weight: 68.0kg, group: MINF, nb_frames: 30\n"
     ]
    },
    {
     "data": {
      "image/png": "[encoded data removed]",
      "text/plain": [
       "<Figure size 1000x1000 with 2 Axes>"
      ]
     },
     "metadata": {},
     "output_type": "display_data"
    },
    {
     "name": "stdout",
     "output_type": "stream",
     "text": [
      "\t------------------------------------------------------------\n",
      "\tHealthy control :\t\t\n",
      "\t\t\n",
      "\t\t\tID: patient150, height: 158.0cm, weight: 56.0kg, group: NOR, nb_frames: 30\n"
     ]
    },
    {
     "data": {
      "image/png": "[encoded data removed]",
      "text/plain": [
       "<Figure size 1000x1000 with 2 Axes>"
      ]
     },
     "metadata": {},
     "output_type": "display_data"
    },
    {
     "name": "stdout",
     "output_type": "stream",
     "text": [
      "\t------------------------------------------------------------\n",
      "\tAbnormal right ventricle :\t\t\n",
      "\t\t\n",
      "\t\t\tID: patient140, height: 165.0cm, weight: 68.0kg, group: RV, nb_frames: 15\n"
     ]
    },
    {
     "data": {
      "image/png": "[encoded data removed]",
      "text/plain": [
       "<Figure size 1000x1000 with 2 Axes>"
      ]
     },
     "metadata": {},
     "output_type": "display_data"
    },
    {
     "name": "stdout",
     "output_type": "stream",
     "text": [
      "##########################################################################################\n",
      "train data :\n",
      "\t------------------------------------------------------------\n",
      "\tDilated cardiomyopathy :\t\t\n",
      "\t\t\n",
      "\t\t\tID: patient004, height: 159.0cm, weight: 46.0kg, group: DCM, nb_frames: 28\n"
     ]
    },
    {
     "data": {
      "image/png": "[encoded data removed]",
      "text/plain": [
       "<Figure size 1000x1000 with 2 Axes>"
      ]
     },
     "metadata": {},
     "output_type": "display_data"
    },
    {
     "name": "stdout",
     "output_type": "stream",
     "text": [
      "\t------------------------------------------------------------\n",
      "\tHypertrophic cardiomyopathy :\t\t\n",
      "\t\t\n",
      "\t\t\tID: patient030, height: 150.0cm, weight: 54.0kg, group: HCM, nb_frames: 35\n"
     ]
    },
    {
     "data": {
      "image/png": "[encoded data removed]",
      "text/plain": [
       "<Figure size 1000x1000 with 2 Axes>"
      ]
     },
     "metadata": {},
     "output_type": "display_data"
    },
    {
     "name": "stdout",
     "output_type": "stream",
     "text": [
      "\t------------------------------------------------------------\n",
      "\tMyocardial infarction :\t\t\n",
      "\t\t\n",
      "\t\t\tID: patient055, height: 180.0cm, weight: 82.0kg, group: MINF, nb_frames: 25\n"
     ]
    },
    {
     "data": {
      "image/png": "[encoded data removed]",
      "text/plain": [
       "<Figure size 1000x1000 with 2 Axes>"
      ]
     },
     "metadata": {},
     "output_type": "display_data"
    },
    {
     "name": "stdout",
     "output_type": "stream",
     "text": [
      "\t------------------------------------------------------------\n",
      "\tHealthy control :\t\t\n",
      "\t\t\n",
      "\t\t\tID: patient065, height: 180.0cm, weight: 92.0kg, group: NOR, nb_frames: 30\n"
     ]
    },
    {
     "data": {
      "image/png": "[encoded data removed]",
      "text/plain": [
       "<Figure size 1000x1000 with 2 Axes>"
      ]
     },
     "metadata": {},
     "output_type": "display_data"
    },
    {
     "name": "stdout",
     "output_type": "stream",
     "text": [
      "\t------------------------------------------------------------\n",
      "\tAbnormal right ventricle :\t\t\n",
      "\t\t\n",
      "\t\t\tID: patient094, height: 164.0cm, weight: 45.0kg, group: RV, nb_frames: 14\n"
     ]
    },
    {
     "data": {
      "image/png": "[encoded data removed]",
      "text/plain": [
       "<Figure size 1000x1000 with 2 Axes>"
      ]
     },
     "metadata": {},
     "output_type": "display_data"
    },
    {
     "data": {
      "application/vnd.jupyter.widget-view+json": {
       "model_id": "8eb977af8b664a1aae471cc2fbb2a944",
       "version_major": 2,
       "version_minor": 0
      },
      "text/plain": [
       "Extracting images in 'train':   0%|          | 0/100 [00:00<?, ?it/s]"
      ]
     },
     "metadata": {},
     "output_type": "display_data"
    },
    {
     "data": {
      "application/vnd.jupyter.widget-view+json": {
       "model_id": "e10da476463743c0aadeaef5af1d620d",
       "version_major": 2,
       "version_minor": 0
      },
      "text/plain": [
       "Extracting images in 'test':   0%|          | 0/50 [00:00<?, ?it/s]"
      ]
     },
     "metadata": {},
     "output_type": "display_data"
    },
    {
     "data": {
      "application/vnd.jupyter.widget-view+json": {
       "model_id": "8722e37a019549cca51bc8d47ff873ff",
       "version_major": 2,
       "version_minor": 0
      },
      "text/plain": [
       "Rotating images:   0%|          | 0/7 [00:00<?, ?it/s]"
      ]
     },
     "metadata": {},
     "output_type": "display_data"
    },
    {
     "name": "stdout",
     "output_type": "stream",
     "text": [
      "Number of images after rotation: 2100\n"
     ]
    },
    {
     "data": {
      "application/vnd.jupyter.widget-view+json": {
       "model_id": "e1ecac303140475eb95764687d212549",
       "version_major": 2,
       "version_minor": 0
      },
      "text/plain": [
       "Slicing images:   0%|          | 0/2100 [00:00<?, ?it/s]"
      ]
     },
     "metadata": {},
     "output_type": "display_data"
    },
    {
     "name": "stdout",
     "output_type": "stream",
     "text": [
      "Number of images after slicing: 20846\n",
      "No one-hot encoding applied\n"
     ]
    },
    {
     "data": {
      "application/vnd.jupyter.widget-view+json": {
       "model_id": "40d5102374d047c993b72929b77741fc",
       "version_major": 2,
       "version_minor": 0
      },
      "text/plain": [
       "Normalizing images:   0%|          | 0/20846 [00:00<?, ?it/s]"
      ]
     },
     "metadata": {},
     "output_type": "display_data"
    }
   ],
   "source": [
    "# Preprocess the data\n",
    "preprocessed_data = model_preprocessor.preprocess_data(\n",
    "    target_shape=(IMAGE_SIZE, IMAGE_SIZE),\n",
    "    padding=PADDING,\n",
    "    image_names=IMAGE_NAMES,\n",
    "    link_gt_to_data=LINK_GT_TO_DATA,\n",
    "    keep_3d_consistency=KEEP_3D_CONSISTENCY,\n",
    "    create_channels_from_gt=CHANNELS>1,\n",
    "    rescale_output_key=RESCALE_OUTPUT_KEY,\n",
    "    max_angle=MAX_ANGLE,\n",
    "    nb_rotations=NB_ROTATIONS,\n",
    "    verbose=VERBOSE\n",
    ")"
   ]
  },
  {
   "cell_type": "code",
   "execution_count": 20,
   "id": "1b8c37528cf5dfaf",
   "metadata": {},
   "outputs": [
    {
     "name": "stdout",
     "output_type": "stream",
     "text": [
      "Memory usage before: 3.0453 GB\n",
      "Memory usage after: 3.0453 GB\n",
      "Memory liberated: 0.00 MB\n"
     ]
    }
   ],
   "source": [
    "# Liberate memory if needed\n",
    "def get_memory_usage():\n",
    "    \"\"\"Return the memory usage in MB\"\"\"\n",
    "    process = psutil.Process(os.getpid())\n",
    "    return process.memory_info().rss / 1e6\n",
    "\n",
    "if LIBERATE_MEMORY:\n",
    "    memory_before = get_memory_usage()\n",
    "    del data_loader\n",
    "    del model_preprocessor\n",
    "    gc.collect()\n",
    "    memory_after = get_memory_usage()\n",
    "    if VERBOSE >= VerboseLevel.PRINT:\n",
    "        print(f\"Memory usage before: {memory_before/1000:.4f} GB\"\n",
    "              f\"\\nMemory usage after: {memory_after/1000:.4f} GB\"\n",
    "              f\"\\nMemory liberated: {memory_before - memory_after:.2f} MB\"\n",
    "        )"
   ]
  },
  {
   "cell_type": "markdown",
   "id": "3fff972c424839db",
   "metadata": {},
   "source": [
    "## III. Model Training"
   ]
  },
  {
   "cell_type": "code",
   "execution_count": 21,
   "id": "78a918220892378d",
   "metadata": {},
   "outputs": [],
   "source": [
    "# Define the root data folder\n",
    "ROOT_RES_FOLDER = os.path.join(os.path.dirname(os.getcwd()), 'resources')\n",
    "\n",
    "# Saving paths\n",
    "current_datetime = datetime.datetime.now()\n",
    "\n",
    "IMAGES_SAVE_FOLDER = os.path.join(\n",
    "    ROOT_RES_FOLDER,\n",
    "    \"images\",\n",
    "    f\"{current_datetime.strftime('%Y-%m-%d-%H-%M')}_\" + (f'{CHANNELS}-channels' if CHANNELS>1 else '1-channel'),\n",
    "    \"training\"\n",
    ")\n",
    "IMAGES_SAVE_PATH = os.path.join(IMAGES_SAVE_FOLDER, \"{}\")\n",
    "\n",
    "MODEL_SAVE_FOLDER = os.path.join(\n",
    "    ROOT_RES_FOLDER,\n",
    "    \"trained_models\",\n",
    "    f\"{current_datetime.strftime('%Y-%m-%d-%H-%M')}_\" + (f'{CHANNELS}-channels' if CHANNELS>1 else '1-channel')\n",
    ")\n",
    "MODEL_SAVE_PATH = os.path.join(MODEL_SAVE_FOLDER, \"{}_unet.pt\")\n",
    "PARAMS_SAVE_PATH = os.path.join(MODEL_SAVE_FOLDER, \"params.txt\")\n",
    "\n",
    "# Create folders to save the models\n",
    "os.makedirs(IMAGES_SAVE_FOLDER, exist_ok=True)\n",
    "os.makedirs(MODEL_SAVE_FOLDER, exist_ok=True)"
   ]
  },
  {
   "cell_type": "code",
   "execution_count": 22,
   "id": "d03e1017ea488c91",
   "metadata": {},
   "outputs": [
    {
     "name": "stdout",
     "output_type": "stream",
     "text": [
      "Parameters saved to '/home/infres/bternot-21/PRIM-AI-Diffusion-Models-for-Cardiac-Images/resources/trained_models/2025-01-13-19-48_4-channels/params.txt'\n"
     ]
    }
   ],
   "source": [
    "# Write parameters to the file\n",
    "SAVE_PARAMS = {\n",
    "    \"IMAGE_SIZE\": IMAGE_SIZE,\n",
    "    \"CHANNELS\": CHANNELS,\n",
    "    \"BATCH_SIZE\": BATCH_SIZE,\n",
    "    \"EPOCHS\": EPOCHS,\n",
    "    \"T\": T,\n",
    "    \"DIM_MULTS\": DIM_MULTS\n",
    "}\n",
    "with open(PARAMS_SAVE_PATH, \"w\") as file:\n",
    "    for key, value in SAVE_PARAMS.items():\n",
    "        file.write(f\"{key} = {value}\\n\")\n",
    "if VERBOSE >= VerboseLevel.PRINT:\n",
    "    print(f\"Parameters saved to '{PARAMS_SAVE_PATH}'\")"
   ]
  },
  {
   "cell_type": "code",
   "execution_count": 23,
   "id": "526b2af86119aa12",
   "metadata": {},
   "outputs": [],
   "source": [
    "device = torch.device(f\"cuda:{CUDA_DEVICE}\" if torch.cuda.is_available() else \"cpu\")"
   ]
  },
  {
   "cell_type": "code",
   "execution_count": 24,
   "id": "dc7213ad487c5cc9",
   "metadata": {},
   "outputs": [
    {
     "name": "stdout",
     "output_type": "stream",
     "text": [
      "18752 images (293 batchs) for train, 2048 images (32 batchs) for validation, (90.0%-9.8%)\n",
      "46 images left unused.\n"
     ]
    },
    {
     "data": {
      "image/png": "[encoded data removed]",
      "text/plain": [
       "<Figure size 1400x600 with 3 Axes>"
      ]
     },
     "metadata": {},
     "output_type": "display_data"
    },
    {
     "data": {
      "image/png": "[encoded data removed]",
      "text/plain": [
       "<Figure size 1400x600 with 3 Axes>"
      ]
     },
     "metadata": {},
     "output_type": "display_data"
    }
   ],
   "source": [
    "# Define the model\n",
    "model = Unet(\n",
    "    dim=IMAGE_SIZE,\n",
    "    init_dim=None,\n",
    "    out_dim=None,\n",
    "    dim_mults=DIM_MULTS,\n",
    "    channels= CHANNELS,\n",
    "    with_time_emb=True,\n",
    "    convnext_mult=2,\n",
    ").to(device)\n",
    "model_trainer = DiffusionModelTrainer(\n",
    "    data_set=preprocessed_data,\n",
    "    val_split=0.1,\n",
    "    model=model,\n",
    "    batch_size=BATCH_SIZE,\n",
    "    criterion=nn.SmoothL1Loss(),\n",
    "    optimizer=Adam(model.parameters(), lr=1e-4),\n",
    "    device=device,\n",
    "    verbose=VERBOSE,\n",
    "    image_filename=IMAGES_SAVE_PATH\n",
    ")"
   ]
  },
  {
   "cell_type": "code",
   "execution_count": 25,
   "id": "fbf3939a7933c0fa",
   "metadata": {},
   "outputs": [
    {
     "data": {
      "application/vnd.jupyter.widget-view+json": {
       "model_id": "d39e7368c29b4228904569d4615200d6",
       "version_major": 2,
       "version_minor": 0
      },
      "text/plain": [
       "Training epochs:   0%|          | 0/100 [00:00<?, ?it/s]"
      ]
     },
     "metadata": {},
     "output_type": "display_data"
    },
    {
     "data": {
      "application/vnd.jupyter.widget-view+json": {
       "model_id": "16a89c1f453840b8814a491ac62098c4",
       "version_major": 2,
       "version_minor": 0
      },
      "text/plain": [
       "* Epoch 1 - Training batches:   0%|          | 0/293 [00:00<?, ?it/s]"
      ]
     },
     "metadata": {},
     "output_type": "display_data"
    },
    {
     "data": {
      "application/vnd.jupyter.widget-view+json": {
       "model_id": "4d47aa8be4ad4e50924dec68ab412c1b",
       "version_major": 2,
       "version_minor": 0
      },
      "text/plain": [
       "* Epoch 1 - Validation batches:   0%|          | 0/32 [00:00<?, ?it/s]"
      ]
     },
     "metadata": {},
     "output_type": "display_data"
    },
    {
     "name": "stdout",
     "output_type": "stream",
     "text": [
      "Epoch 1 - Train loss: 0.41068 - Val loss: 0.38397\n"
     ]
    },
    {
     "data": {
      "application/vnd.jupyter.widget-view+json": {
       "model_id": "c5b6244fb95944f9acf6b6daaaa820c5",
       "version_major": 2,
       "version_minor": 0
      },
      "text/plain": [
       "* Epoch 2 - Training batches:   0%|          | 0/293 [00:00<?, ?it/s]"
      ]
     },
     "metadata": {},
     "output_type": "display_data"
    },
    {
     "data": {
      "application/vnd.jupyter.widget-view+json": {
       "model_id": "8a06d0db1ab54b2c9522b2e56e1ae3cc",
       "version_major": 2,
       "version_minor": 0
      },
      "text/plain": [
       "* Epoch 2 - Validation batches:   0%|          | 0/32 [00:00<?, ?it/s]"
      ]
     },
     "metadata": {},
     "output_type": "display_data"
    },
    {
     "name": "stdout",
     "output_type": "stream",
     "text": [
      "Epoch 2 - Train loss: 0.35200 - Val loss: 0.33089\n"
     ]
    },
    {
     "data": {
      "application/vnd.jupyter.widget-view+json": {
       "model_id": "42bfa33855f94a7ea8be93db35a33839",
       "version_major": 2,
       "version_minor": 0
      },
      "text/plain": [
       "* Epoch 3 - Training batches:   0%|          | 0/293 [00:00<?, ?it/s]"
      ]
     },
     "metadata": {},
     "output_type": "display_data"
    },
    {
     "data": {
      "application/vnd.jupyter.widget-view+json": {
       "model_id": "4adf237cfbe346d7a61e7f79f4c72f96",
       "version_major": 2,
       "version_minor": 0
      },
      "text/plain": [
       "* Epoch 3 - Validation batches:   0%|          | 0/32 [00:00<?, ?it/s]"
      ]
     },
     "metadata": {},
     "output_type": "display_data"
    },
    {
     "name": "stdout",
     "output_type": "stream",
     "text": [
      "Epoch 3 - Train loss: 0.30344 - Val loss: 0.28543\n"
     ]
    },
    {
     "data": {
      "application/vnd.jupyter.widget-view+json": {
       "model_id": "70dfbcc89b404463937aeec6ebb9347e",
       "version_major": 2,
       "version_minor": 0
      },
      "text/plain": [
       "* Epoch 4 - Training batches:   0%|          | 0/293 [00:00<?, ?it/s]"
      ]
     },
     "metadata": {},
     "output_type": "display_data"
    },
    {
     "data": {
      "application/vnd.jupyter.widget-view+json": {
       "model_id": "5a14dfdaeb3f42979007fd3d57f97b1a",
       "version_major": 2,
       "version_minor": 0
      },
      "text/plain": [
       "* Epoch 4 - Validation batches:   0%|          | 0/32 [00:00<?, ?it/s]"
      ]
     },
     "metadata": {},
     "output_type": "display_data"
    },
    {
     "name": "stdout",
     "output_type": "stream",
     "text": [
      "Epoch 4 - Train loss: 0.26058 - Val loss: 0.24928\n"
     ]
    },
    {
     "data": {
      "application/vnd.jupyter.widget-view+json": {
       "model_id": "5dd373c9a2ce4f62a5c01fe86547727b",
       "version_major": 2,
       "version_minor": 0
      },
      "text/plain": [
       "* Epoch 5 - Training batches:   0%|          | 0/293 [00:00<?, ?it/s]"
      ]
     },
     "metadata": {},
     "output_type": "display_data"
    },
    {
     "data": {
      "application/vnd.jupyter.widget-view+json": {
       "model_id": "237cba3a8a74414b99fc193544039fbb",
       "version_major": 2,
       "version_minor": 0
      },
      "text/plain": [
       "* Epoch 5 - Validation batches:   0%|          | 0/32 [00:00<?, ?it/s]"
      ]
     },
     "metadata": {},
     "output_type": "display_data"
    },
    {
     "name": "stdout",
     "output_type": "stream",
     "text": [
      "Epoch 5 - Train loss: 0.22882 - Val loss: 0.22413\n"
     ]
    },
    {
     "data": {
      "application/vnd.jupyter.widget-view+json": {
       "model_id": "14142b0ed1ba43ef88837fc7e5194792",
       "version_major": 2,
       "version_minor": 0
      },
      "text/plain": [
       "* Epoch 6 - Training batches:   0%|          | 0/293 [00:00<?, ?it/s]"
      ]
     },
     "metadata": {},
     "output_type": "display_data"
    },
    {
     "data": {
      "application/vnd.jupyter.widget-view+json": {
       "model_id": "ec949caf4aea4602b21f12d07e82a1c3",
       "version_major": 2,
       "version_minor": 0
      },
      "text/plain": [
       "* Epoch 6 - Validation batches:   0%|          | 0/32 [00:00<?, ?it/s]"
      ]
     },
     "metadata": {},
     "output_type": "display_data"
    },
    {
     "name": "stdout",
     "output_type": "stream",
     "text": [
      "Epoch 6 - Train loss: 0.20749 - Val loss: 0.20618\n"
     ]
    },
    {
     "data": {
      "application/vnd.jupyter.widget-view+json": {
       "model_id": "999d901df6974e3ab9c51d5d3cb078f0",
       "version_major": 2,
       "version_minor": 0
      },
      "text/plain": [
       "* Epoch 7 - Training batches:   0%|          | 0/293 [00:00<?, ?it/s]"
      ]
     },
     "metadata": {},
     "output_type": "display_data"
    },
    {
     "data": {
      "application/vnd.jupyter.widget-view+json": {
       "model_id": "1e8ac6c1705e4ce394ca1d65be006c44",
       "version_major": 2,
       "version_minor": 0
      },
      "text/plain": [
       "* Epoch 7 - Validation batches:   0%|          | 0/32 [00:00<?, ?it/s]"
      ]
     },
     "metadata": {},
     "output_type": "display_data"
    },
    {
     "name": "stdout",
     "output_type": "stream",
     "text": [
      "Epoch 7 - Train loss: 0.19166 - Val loss: 0.19221\n"
     ]
    },
    {
     "data": {
      "application/vnd.jupyter.widget-view+json": {
       "model_id": "255005c311864fdaa7f973544453bbe3",
       "version_major": 2,
       "version_minor": 0
      },
      "text/plain": [
       "* Epoch 8 - Training batches:   0%|          | 0/293 [00:00<?, ?it/s]"
      ]
     },
     "metadata": {},
     "output_type": "display_data"
    },
    {
     "data": {
      "application/vnd.jupyter.widget-view+json": {
       "model_id": "05692c8ed5dd4c43884b693101c22cea",
       "version_major": 2,
       "version_minor": 0
      },
      "text/plain": [
       "* Epoch 8 - Validation batches:   0%|          | 0/32 [00:00<?, ?it/s]"
      ]
     },
     "metadata": {},
     "output_type": "display_data"
    },
    {
     "name": "stdout",
     "output_type": "stream",
     "text": [
      "Epoch 8 - Train loss: 0.17912 - Val loss: 0.18117\n"
     ]
    },
    {
     "data": {
      "application/vnd.jupyter.widget-view+json": {
       "model_id": "fbf8512544b647c09f856c1b07435f5d",
       "version_major": 2,
       "version_minor": 0
      },
      "text/plain": [
       "* Epoch 9 - Training batches:   0%|          | 0/293 [00:00<?, ?it/s]"
      ]
     },
     "metadata": {},
     "output_type": "display_data"
    },
    {
     "data": {
      "application/vnd.jupyter.widget-view+json": {
       "model_id": "1a48a94519ae4dc1a5cd830a3718b2b1",
       "version_major": 2,
       "version_minor": 0
      },
      "text/plain": [
       "* Epoch 9 - Validation batches:   0%|          | 0/32 [00:00<?, ?it/s]"
      ]
     },
     "metadata": {},
     "output_type": "display_data"
    },
    {
     "name": "stdout",
     "output_type": "stream",
     "text": [
      "Epoch 9 - Train loss: 0.16969 - Val loss: 0.17225\n"
     ]
    },
    {
     "data": {
      "application/vnd.jupyter.widget-view+json": {
       "model_id": "6d5b35de443147cba66871451218b87e",
       "version_major": 2,
       "version_minor": 0
      },
      "text/plain": [
       "* Epoch 10 - Training batches:   0%|          | 0/293 [00:00<?, ?it/s]"
      ]
     },
     "metadata": {},
     "output_type": "display_data"
    },
    {
     "data": {
      "application/vnd.jupyter.widget-view+json": {
       "model_id": "3465f6f534ce4c999ecb1ffd66c75b8b",
       "version_major": 2,
       "version_minor": 0
      },
      "text/plain": [
       "* Epoch 10 - Validation batches:   0%|          | 0/32 [00:00<?, ?it/s]"
      ]
     },
     "metadata": {},
     "output_type": "display_data"
    },
    {
     "name": "stdout",
     "output_type": "stream",
     "text": [
      "Epoch 10 - Train loss: 0.16135 - Val loss: 0.16512\n"
     ]
    },
    {
     "data": {
      "application/vnd.jupyter.widget-view+json": {
       "model_id": "69b9281c6e314fa69efb2aa884b69020",
       "version_major": 2,
       "version_minor": 0
      },
      "text/plain": [
       "* Epoch 11 - Training batches:   0%|          | 0/293 [00:00<?, ?it/s]"
      ]
     },
     "metadata": {},
     "output_type": "display_data"
    },
    {
     "data": {
      "application/vnd.jupyter.widget-view+json": {
       "model_id": "f631d6cd10784778adbea0d3f88b21e5",
       "version_major": 2,
       "version_minor": 0
      },
      "text/plain": [
       "* Epoch 11 - Validation batches:   0%|          | 0/32 [00:00<?, ?it/s]"
      ]
     },
     "metadata": {},
     "output_type": "display_data"
    },
    {
     "name": "stdout",
     "output_type": "stream",
     "text": [
      "Epoch 11 - Train loss: 0.15428 - Val loss: 0.15794\n"
     ]
    },
    {
     "data": {
      "application/vnd.jupyter.widget-view+json": {
       "model_id": "c7958ff33e27474f890d958f5125dbd0",
       "version_major": 2,
       "version_minor": 0
      },
      "text/plain": [
       "* Epoch 12 - Training batches:   0%|          | 0/293 [00:00<?, ?it/s]"
      ]
     },
     "metadata": {},
     "output_type": "display_data"
    },
    {
     "data": {
      "application/vnd.jupyter.widget-view+json": {
       "model_id": "50c1ec0af50b4f88b8053290f082972e",
       "version_major": 2,
       "version_minor": 0
      },
      "text/plain": [
       "* Epoch 12 - Validation batches:   0%|          | 0/32 [00:00<?, ?it/s]"
      ]
     },
     "metadata": {},
     "output_type": "display_data"
    },
    {
     "name": "stdout",
     "output_type": "stream",
     "text": [
      "Epoch 12 - Train loss: 0.14761 - Val loss: 0.15070\n"
     ]
    },
    {
     "data": {
      "application/vnd.jupyter.widget-view+json": {
       "model_id": "26d7004d309140c6b8beb08138fb8b93",
       "version_major": 2,
       "version_minor": 0
      },
      "text/plain": [
       "* Epoch 13 - Training batches:   0%|          | 0/293 [00:00<?, ?it/s]"
      ]
     },
     "metadata": {},
     "output_type": "display_data"
    },
    {
     "data": {
      "application/vnd.jupyter.widget-view+json": {
       "model_id": "475699424fe9423f8948b0e5e08895ad",
       "version_major": 2,
       "version_minor": 0
      },
      "text/plain": [
       "* Epoch 13 - Validation batches:   0%|          | 0/32 [00:00<?, ?it/s]"
      ]
     },
     "metadata": {},
     "output_type": "display_data"
    },
    {
     "name": "stdout",
     "output_type": "stream",
     "text": [
      "Epoch 13 - Train loss: 0.13962 - Val loss: 0.14328\n"
     ]
    },
    {
     "data": {
      "application/vnd.jupyter.widget-view+json": {
       "model_id": "372c7a74f4594748a4f023bdc7049b0f",
       "version_major": 2,
       "version_minor": 0
      },
      "text/plain": [
       "* Epoch 14 - Training batches:   0%|          | 0/293 [00:00<?, ?it/s]"
      ]
     },
     "metadata": {},
     "output_type": "display_data"
    },
    {
     "data": {
      "application/vnd.jupyter.widget-view+json": {
       "model_id": "0cb37e08eeee424db0e85352765bac72",
       "version_major": 2,
       "version_minor": 0
      },
      "text/plain": [
       "* Epoch 14 - Validation batches:   0%|          | 0/32 [00:00<?, ?it/s]"
      ]
     },
     "metadata": {},
     "output_type": "display_data"
    },
    {
     "name": "stdout",
     "output_type": "stream",
     "text": [
      "Epoch 14 - Train loss: 0.13249 - Val loss: 0.13611\n"
     ]
    },
    {
     "data": {
      "application/vnd.jupyter.widget-view+json": {
       "model_id": "149fc6f63a14402fb06e99fdb9f78ae5",
       "version_major": 2,
       "version_minor": 0
      },
      "text/plain": [
       "* Epoch 15 - Training batches:   0%|          | 0/293 [00:00<?, ?it/s]"
      ]
     },
     "metadata": {},
     "output_type": "display_data"
    },
    {
     "data": {
      "application/vnd.jupyter.widget-view+json": {
       "model_id": "2077f676dbf44a04986d63206531138c",
       "version_major": 2,
       "version_minor": 0
      },
      "text/plain": [
       "* Epoch 15 - Validation batches:   0%|          | 0/32 [00:00<?, ?it/s]"
      ]
     },
     "metadata": {},
     "output_type": "display_data"
    },
    {
     "name": "stdout",
     "output_type": "stream",
     "text": [
      "Epoch 15 - Train loss: 0.12457 - Val loss: 0.12899\n"
     ]
    },
    {
     "data": {
      "application/vnd.jupyter.widget-view+json": {
       "model_id": "27ead5d5cba546ed8789c0e90a4fa878",
       "version_major": 2,
       "version_minor": 0
      },
      "text/plain": [
       "* Epoch 16 - Training batches:   0%|          | 0/293 [00:00<?, ?it/s]"
      ]
     },
     "metadata": {},
     "output_type": "display_data"
    },
    {
     "data": {
      "application/vnd.jupyter.widget-view+json": {
       "model_id": "5c704dbf47dc400bb0f926fff3536d9d",
       "version_major": 2,
       "version_minor": 0
      },
      "text/plain": [
       "* Epoch 16 - Validation batches:   0%|          | 0/32 [00:00<?, ?it/s]"
      ]
     },
     "metadata": {},
     "output_type": "display_data"
    },
    {
     "name": "stdout",
     "output_type": "stream",
     "text": [
      "Epoch 16 - Train loss: 0.11787 - Val loss: 0.12225\n"
     ]
    },
    {
     "data": {
      "application/vnd.jupyter.widget-view+json": {
       "model_id": "38013ee399064febb81d6e01bdfbd8a6",
       "version_major": 2,
       "version_minor": 0
      },
      "text/plain": [
       "* Epoch 17 - Training batches:   0%|          | 0/293 [00:00<?, ?it/s]"
      ]
     },
     "metadata": {},
     "output_type": "display_data"
    },
    {
     "data": {
      "application/vnd.jupyter.widget-view+json": {
       "model_id": "d35a0a424fd649938d5c5009edfcc3f8",
       "version_major": 2,
       "version_minor": 0
      },
      "text/plain": [
       "* Epoch 17 - Validation batches:   0%|          | 0/32 [00:00<?, ?it/s]"
      ]
     },
     "metadata": {},
     "output_type": "display_data"
    },
    {
     "name": "stdout",
     "output_type": "stream",
     "text": [
      "Epoch 17 - Train loss: 0.11183 - Val loss: 0.11729\n"
     ]
    },
    {
     "data": {
      "application/vnd.jupyter.widget-view+json": {
       "model_id": "cea5f104f56a4435826f04eaf43311e1",
       "version_major": 2,
       "version_minor": 0
      },
      "text/plain": [
       "* Epoch 18 - Training batches:   0%|          | 0/293 [00:00<?, ?it/s]"
      ]
     },
     "metadata": {},
     "output_type": "display_data"
    },
    {
     "data": {
      "application/vnd.jupyter.widget-view+json": {
       "model_id": "3f616a3393874b039aea00f8ed4a323c",
       "version_major": 2,
       "version_minor": 0
      },
      "text/plain": [
       "* Epoch 18 - Validation batches:   0%|          | 0/32 [00:00<?, ?it/s]"
      ]
     },
     "metadata": {},
     "output_type": "display_data"
    },
    {
     "name": "stdout",
     "output_type": "stream",
     "text": [
      "Epoch 18 - Train loss: 0.10548 - Val loss: 0.10968\n"
     ]
    },
    {
     "data": {
      "application/vnd.jupyter.widget-view+json": {
       "model_id": "8754a14c68204b3982a8a9a9c6449cdc",
       "version_major": 2,
       "version_minor": 0
      },
      "text/plain": [
       "* Epoch 19 - Training batches:   0%|          | 0/293 [00:00<?, ?it/s]"
      ]
     },
     "metadata": {},
     "output_type": "display_data"
    },
    {
     "data": {
      "application/vnd.jupyter.widget-view+json": {
       "model_id": "2060dc5a3c5a4ff7b224d98b123a4d03",
       "version_major": 2,
       "version_minor": 0
      },
      "text/plain": [
       "* Epoch 19 - Validation batches:   0%|          | 0/32 [00:00<?, ?it/s]"
      ]
     },
     "metadata": {},
     "output_type": "display_data"
    },
    {
     "name": "stdout",
     "output_type": "stream",
     "text": [
      "Epoch 19 - Train loss: 0.09918 - Val loss: 0.10499\n"
     ]
    },
    {
     "data": {
      "application/vnd.jupyter.widget-view+json": {
       "model_id": "d323e74e9e584027bbfce9681bed3c91",
       "version_major": 2,
       "version_minor": 0
      },
      "text/plain": [
       "* Epoch 20 - Training batches:   0%|          | 0/293 [00:00<?, ?it/s]"
      ]
     },
     "metadata": {},
     "output_type": "display_data"
    },
    {
     "data": {
      "application/vnd.jupyter.widget-view+json": {
       "model_id": "5222c999ba404b93b8c6c75dc73fe00d",
       "version_major": 2,
       "version_minor": 0
      },
      "text/plain": [
       "* Epoch 20 - Validation batches:   0%|          | 0/32 [00:00<?, ?it/s]"
      ]
     },
     "metadata": {},
     "output_type": "display_data"
    },
    {
     "name": "stdout",
     "output_type": "stream",
     "text": [
      "Epoch 20 - Train loss: 0.09401 - Val loss: 0.09850\n"
     ]
    },
    {
     "data": {
      "application/vnd.jupyter.widget-view+json": {
       "model_id": "a44811dbca9c41378a700c05d439226f",
       "version_major": 2,
       "version_minor": 0
      },
      "text/plain": [
       "* Epoch 21 - Training batches:   0%|          | 0/293 [00:00<?, ?it/s]"
      ]
     },
     "metadata": {},
     "output_type": "display_data"
    },
    {
     "data": {
      "application/vnd.jupyter.widget-view+json": {
       "model_id": "5556036ae99243e1800428e753f20fca",
       "version_major": 2,
       "version_minor": 0
      },
      "text/plain": [
       "* Epoch 21 - Validation batches:   0%|          | 0/32 [00:00<?, ?it/s]"
      ]
     },
     "metadata": {},
     "output_type": "display_data"
    },
    {
     "name": "stdout",
     "output_type": "stream",
     "text": [
      "Epoch 21 - Train loss: 0.08922 - Val loss: 0.09472\n"
     ]
    },
    {
     "data": {
      "application/vnd.jupyter.widget-view+json": {
       "model_id": "b600f68491084d27bf23a3aaa0d0cdd1",
       "version_major": 2,
       "version_minor": 0
      },
      "text/plain": [
       "* Epoch 22 - Training batches:   0%|          | 0/293 [00:00<?, ?it/s]"
      ]
     },
     "metadata": {},
     "output_type": "display_data"
    },
    {
     "data": {
      "application/vnd.jupyter.widget-view+json": {
       "model_id": "3f484dd1f9354656b5511c809b0f6f22",
       "version_major": 2,
       "version_minor": 0
      },
      "text/plain": [
       "* Epoch 22 - Validation batches:   0%|          | 0/32 [00:00<?, ?it/s]"
      ]
     },
     "metadata": {},
     "output_type": "display_data"
    },
    {
     "name": "stdout",
     "output_type": "stream",
     "text": [
      "Epoch 22 - Train loss: 0.08599 - Val loss: 0.09127\n"
     ]
    },
    {
     "data": {
      "application/vnd.jupyter.widget-view+json": {
       "model_id": "d3560a3711f2406f9058dbbfe5bcaf5f",
       "version_major": 2,
       "version_minor": 0
      },
      "text/plain": [
       "* Epoch 23 - Training batches:   0%|          | 0/293 [00:00<?, ?it/s]"
      ]
     },
     "metadata": {},
     "output_type": "display_data"
    },
    {
     "data": {
      "application/vnd.jupyter.widget-view+json": {
       "model_id": "84cc94bdf81448929d20157d1fcd8a96",
       "version_major": 2,
       "version_minor": 0
      },
      "text/plain": [
       "* Epoch 23 - Validation batches:   0%|          | 0/32 [00:00<?, ?it/s]"
      ]
     },
     "metadata": {},
     "output_type": "display_data"
    },
    {
     "name": "stdout",
     "output_type": "stream",
     "text": [
      "Epoch 23 - Train loss: 0.08280 - Val loss: 0.08923\n"
     ]
    },
    {
     "data": {
      "application/vnd.jupyter.widget-view+json": {
       "model_id": "eb139067444d4febb6965e15f0a19c35",
       "version_major": 2,
       "version_minor": 0
      },
      "text/plain": [
       "* Epoch 24 - Training batches:   0%|          | 0/293 [00:00<?, ?it/s]"
      ]
     },
     "metadata": {},
     "output_type": "display_data"
    },
    {
     "data": {
      "application/vnd.jupyter.widget-view+json": {
       "model_id": "d3561a4ca18c48b4badad4fe5b555f5f",
       "version_major": 2,
       "version_minor": 0
      },
      "text/plain": [
       "* Epoch 24 - Validation batches:   0%|          | 0/32 [00:00<?, ?it/s]"
      ]
     },
     "metadata": {},
     "output_type": "display_data"
    },
    {
     "name": "stdout",
     "output_type": "stream",
     "text": [
      "Epoch 24 - Train loss: 0.08120 - Val loss: 0.08724\n"
     ]
    },
    {
     "data": {
      "application/vnd.jupyter.widget-view+json": {
       "model_id": "fa3aac76f40a46838501787005fefde6",
       "version_major": 2,
       "version_minor": 0
      },
      "text/plain": [
       "* Epoch 25 - Training batches:   0%|          | 0/293 [00:00<?, ?it/s]"
      ]
     },
     "metadata": {},
     "output_type": "display_data"
    },
    {
     "data": {
      "application/vnd.jupyter.widget-view+json": {
       "model_id": "485c18246bce4628b86e74c7fe90b188",
       "version_major": 2,
       "version_minor": 0
      },
      "text/plain": [
       "* Epoch 25 - Validation batches:   0%|          | 0/32 [00:00<?, ?it/s]"
      ]
     },
     "metadata": {},
     "output_type": "display_data"
    },
    {
     "name": "stdout",
     "output_type": "stream",
     "text": [
      "Epoch 25 - Train loss: 0.07874 - Val loss: 0.08473\n"
     ]
    },
    {
     "data": {
      "application/vnd.jupyter.widget-view+json": {
       "model_id": "55cbf6a49d2745b183ea159c9ac76eda",
       "version_major": 2,
       "version_minor": 0
      },
      "text/plain": [
       "* Epoch 26 - Training batches:   0%|          | 0/293 [00:00<?, ?it/s]"
      ]
     },
     "metadata": {},
     "output_type": "display_data"
    },
    {
     "data": {
      "application/vnd.jupyter.widget-view+json": {
       "model_id": "c7acdc31386f4efca46512b2aef4b4e8",
       "version_major": 2,
       "version_minor": 0
      },
      "text/plain": [
       "* Epoch 26 - Validation batches:   0%|          | 0/32 [00:00<?, ?it/s]"
      ]
     },
     "metadata": {},
     "output_type": "display_data"
    },
    {
     "name": "stdout",
     "output_type": "stream",
     "text": [
      "Epoch 26 - Train loss: 0.07745 - Val loss: 0.08369\n"
     ]
    },
    {
     "data": {
      "application/vnd.jupyter.widget-view+json": {
       "model_id": "5a99453e504b44a2acb5e5ca44654c9a",
       "version_major": 2,
       "version_minor": 0
      },
      "text/plain": [
       "* Epoch 27 - Training batches:   0%|          | 0/293 [00:00<?, ?it/s]"
      ]
     },
     "metadata": {},
     "output_type": "display_data"
    },
    {
     "data": {
      "application/vnd.jupyter.widget-view+json": {
       "model_id": "47ea49aa53124c9e87022be5c4023ec0",
       "version_major": 2,
       "version_minor": 0
      },
      "text/plain": [
       "* Epoch 27 - Validation batches:   0%|          | 0/32 [00:00<?, ?it/s]"
      ]
     },
     "metadata": {},
     "output_type": "display_data"
    },
    {
     "name": "stdout",
     "output_type": "stream",
     "text": [
      "Epoch 27 - Train loss: 0.07580 - Val loss: 0.08302\n"
     ]
    },
    {
     "data": {
      "application/vnd.jupyter.widget-view+json": {
       "model_id": "62f9ffa525044609b1d857de5cf6a32e",
       "version_major": 2,
       "version_minor": 0
      },
      "text/plain": [
       "* Epoch 28 - Training batches:   0%|          | 0/293 [00:00<?, ?it/s]"
      ]
     },
     "metadata": {},
     "output_type": "display_data"
    },
    {
     "data": {
      "application/vnd.jupyter.widget-view+json": {
       "model_id": "025c0729472a4bc3a229b45cbc5752a2",
       "version_major": 2,
       "version_minor": 0
      },
      "text/plain": [
       "* Epoch 28 - Validation batches:   0%|          | 0/32 [00:00<?, ?it/s]"
      ]
     },
     "metadata": {},
     "output_type": "display_data"
    },
    {
     "name": "stdout",
     "output_type": "stream",
     "text": [
      "Epoch 28 - Train loss: 0.07460 - Val loss: 0.08064\n"
     ]
    },
    {
     "data": {
      "application/vnd.jupyter.widget-view+json": {
       "model_id": "9202202e2d514ae9abea13c05ae26756",
       "version_major": 2,
       "version_minor": 0
      },
      "text/plain": [
       "* Epoch 29 - Training batches:   0%|          | 0/293 [00:00<?, ?it/s]"
      ]
     },
     "metadata": {},
     "output_type": "display_data"
    },
    {
     "data": {
      "application/vnd.jupyter.widget-view+json": {
       "model_id": "397a71cebbca4797975498c239de51a0",
       "version_major": 2,
       "version_minor": 0
      },
      "text/plain": [
       "* Epoch 29 - Validation batches:   0%|          | 0/32 [00:00<?, ?it/s]"
      ]
     },
     "metadata": {},
     "output_type": "display_data"
    },
    {
     "name": "stdout",
     "output_type": "stream",
     "text": [
      "Epoch 29 - Train loss: 0.07408 - Val loss: 0.07949\n"
     ]
    },
    {
     "data": {
      "application/vnd.jupyter.widget-view+json": {
       "model_id": "b5ab02f2f922458b9b354f92eed449a8",
       "version_major": 2,
       "version_minor": 0
      },
      "text/plain": [
       "* Epoch 30 - Training batches:   0%|          | 0/293 [00:00<?, ?it/s]"
      ]
     },
     "metadata": {},
     "output_type": "display_data"
    },
    {
     "data": {
      "application/vnd.jupyter.widget-view+json": {
       "model_id": "abc8464cb8ce44cab5dc5905d19ede12",
       "version_major": 2,
       "version_minor": 0
      },
      "text/plain": [
       "* Epoch 30 - Validation batches:   0%|          | 0/32 [00:00<?, ?it/s]"
      ]
     },
     "metadata": {},
     "output_type": "display_data"
    },
    {
     "name": "stdout",
     "output_type": "stream",
     "text": [
      "Epoch 30 - Train loss: 0.07280 - Val loss: 0.07859\n"
     ]
    },
    {
     "data": {
      "application/vnd.jupyter.widget-view+json": {
       "model_id": "dc1a7031e8914f9c811cd094b56a3cf3",
       "version_major": 2,
       "version_minor": 0
      },
      "text/plain": [
       "* Epoch 31 - Training batches:   0%|          | 0/293 [00:00<?, ?it/s]"
      ]
     },
     "metadata": {},
     "output_type": "display_data"
    },
    {
     "data": {
      "application/vnd.jupyter.widget-view+json": {
       "model_id": "bf0c66692134448cbb1e5bbc2246a19f",
       "version_major": 2,
       "version_minor": 0
      },
      "text/plain": [
       "* Epoch 31 - Validation batches:   0%|          | 0/32 [00:00<?, ?it/s]"
      ]
     },
     "metadata": {},
     "output_type": "display_data"
    },
    {
     "name": "stdout",
     "output_type": "stream",
     "text": [
      "Epoch 31 - Train loss: 0.07178 - Val loss: 0.07708\n"
     ]
    },
    {
     "data": {
      "application/vnd.jupyter.widget-view+json": {
       "model_id": "8b4e5c7e56244ef1bf0420d81bd169ae",
       "version_major": 2,
       "version_minor": 0
      },
      "text/plain": [
       "* Epoch 32 - Training batches:   0%|          | 0/293 [00:00<?, ?it/s]"
      ]
     },
     "metadata": {},
     "output_type": "display_data"
    },
    {
     "data": {
      "application/vnd.jupyter.widget-view+json": {
       "model_id": "4cf6a72f19ff4a46bf0ae89bfaf84dd2",
       "version_major": 2,
       "version_minor": 0
      },
      "text/plain": [
       "* Epoch 32 - Validation batches:   0%|          | 0/32 [00:00<?, ?it/s]"
      ]
     },
     "metadata": {},
     "output_type": "display_data"
    },
    {
     "name": "stdout",
     "output_type": "stream",
     "text": [
      "Epoch 32 - Train loss: 0.07100 - Val loss: 0.07613\n"
     ]
    },
    {
     "data": {
      "application/vnd.jupyter.widget-view+json": {
       "model_id": "a34ac49d4bcd4a3088b40af38a4ac42c",
       "version_major": 2,
       "version_minor": 0
      },
      "text/plain": [
       "* Epoch 33 - Training batches:   0%|          | 0/293 [00:00<?, ?it/s]"
      ]
     },
     "metadata": {},
     "output_type": "display_data"
    },
    {
     "data": {
      "application/vnd.jupyter.widget-view+json": {
       "model_id": "89aa0432816f480286930f60cdfd0fa2",
       "version_major": 2,
       "version_minor": 0
      },
      "text/plain": [
       "* Epoch 33 - Validation batches:   0%|          | 0/32 [00:00<?, ?it/s]"
      ]
     },
     "metadata": {},
     "output_type": "display_data"
    },
    {
     "name": "stdout",
     "output_type": "stream",
     "text": [
      "Epoch 33 - Train loss: 0.07021 - Val loss: 0.07527\n"
     ]
    },
    {
     "data": {
      "application/vnd.jupyter.widget-view+json": {
       "model_id": "81687b0e0f32428d9f432569039caf19",
       "version_major": 2,
       "version_minor": 0
      },
      "text/plain": [
       "* Epoch 34 - Training batches:   0%|          | 0/293 [00:00<?, ?it/s]"
      ]
     },
     "metadata": {},
     "output_type": "display_data"
    },
    {
     "data": {
      "application/vnd.jupyter.widget-view+json": {
       "model_id": "26fb11cc64f243f5acfa905d20d67b67",
       "version_major": 2,
       "version_minor": 0
      },
      "text/plain": [
       "* Epoch 34 - Validation batches:   0%|          | 0/32 [00:00<?, ?it/s]"
      ]
     },
     "metadata": {},
     "output_type": "display_data"
    },
    {
     "name": "stdout",
     "output_type": "stream",
     "text": [
      "Epoch 34 - Train loss: 0.06867 - Val loss: 0.07428\n"
     ]
    },
    {
     "data": {
      "application/vnd.jupyter.widget-view+json": {
       "model_id": "0504227d50b44bc3aa58d9118fde635c",
       "version_major": 2,
       "version_minor": 0
      },
      "text/plain": [
       "* Epoch 35 - Training batches:   0%|          | 0/293 [00:00<?, ?it/s]"
      ]
     },
     "metadata": {},
     "output_type": "display_data"
    },
    {
     "data": {
      "application/vnd.jupyter.widget-view+json": {
       "model_id": "053df74616bc403d9b67ff69214d9f3c",
       "version_major": 2,
       "version_minor": 0
      },
      "text/plain": [
       "* Epoch 35 - Validation batches:   0%|          | 0/32 [00:00<?, ?it/s]"
      ]
     },
     "metadata": {},
     "output_type": "display_data"
    },
    {
     "name": "stdout",
     "output_type": "stream",
     "text": [
      "Epoch 35 - Train loss: 0.06832 - Val loss: 0.07346\n"
     ]
    },
    {
     "data": {
      "application/vnd.jupyter.widget-view+json": {
       "model_id": "8750f7c46a6c4bd185e1cc1a546585ef",
       "version_major": 2,
       "version_minor": 0
      },
      "text/plain": [
       "* Epoch 36 - Training batches:   0%|          | 0/293 [00:00<?, ?it/s]"
      ]
     },
     "metadata": {},
     "output_type": "display_data"
    },
    {
     "data": {
      "application/vnd.jupyter.widget-view+json": {
       "model_id": "aa83e9e1fd974e30be3b7e794d2469e1",
       "version_major": 2,
       "version_minor": 0
      },
      "text/plain": [
       "* Epoch 36 - Validation batches:   0%|          | 0/32 [00:00<?, ?it/s]"
      ]
     },
     "metadata": {},
     "output_type": "display_data"
    },
    {
     "name": "stdout",
     "output_type": "stream",
     "text": [
      "Epoch 36 - Train loss: 0.06729 - Val loss: 0.07237\n"
     ]
    },
    {
     "data": {
      "application/vnd.jupyter.widget-view+json": {
       "model_id": "61775c3816c642d6b1fd078ba917b61d",
       "version_major": 2,
       "version_minor": 0
      },
      "text/plain": [
       "* Epoch 37 - Training batches:   0%|          | 0/293 [00:00<?, ?it/s]"
      ]
     },
     "metadata": {},
     "output_type": "display_data"
    },
    {
     "data": {
      "application/vnd.jupyter.widget-view+json": {
       "model_id": "22ba6e47076e46f995dddd9127a4dc54",
       "version_major": 2,
       "version_minor": 0
      },
      "text/plain": [
       "* Epoch 37 - Validation batches:   0%|          | 0/32 [00:00<?, ?it/s]"
      ]
     },
     "metadata": {},
     "output_type": "display_data"
    },
    {
     "name": "stdout",
     "output_type": "stream",
     "text": [
      "Epoch 37 - Train loss: 0.06603 - Val loss: 0.07067\n"
     ]
    },
    {
     "data": {
      "application/vnd.jupyter.widget-view+json": {
       "model_id": "8a2e255762054372a5632487f9b52e62",
       "version_major": 2,
       "version_minor": 0
      },
      "text/plain": [
       "* Epoch 38 - Training batches:   0%|          | 0/293 [00:00<?, ?it/s]"
      ]
     },
     "metadata": {},
     "output_type": "display_data"
    },
    {
     "data": {
      "application/vnd.jupyter.widget-view+json": {
       "model_id": "21929554519b403d89309bbce697f823",
       "version_major": 2,
       "version_minor": 0
      },
      "text/plain": [
       "* Epoch 38 - Validation batches:   0%|          | 0/32 [00:00<?, ?it/s]"
      ]
     },
     "metadata": {},
     "output_type": "display_data"
    },
    {
     "name": "stdout",
     "output_type": "stream",
     "text": [
      "Epoch 38 - Train loss: 0.06518 - Val loss: 0.06981\n"
     ]
    },
    {
     "data": {
      "application/vnd.jupyter.widget-view+json": {
       "model_id": "5dc5b345fd6c445db52a133f9da5a4d3",
       "version_major": 2,
       "version_minor": 0
      },
      "text/plain": [
       "* Epoch 39 - Training batches:   0%|          | 0/293 [00:00<?, ?it/s]"
      ]
     },
     "metadata": {},
     "output_type": "display_data"
    },
    {
     "data": {
      "application/vnd.jupyter.widget-view+json": {
       "model_id": "1e1dd48e7cdf42d0bf7258b69be08848",
       "version_major": 2,
       "version_minor": 0
      },
      "text/plain": [
       "* Epoch 39 - Validation batches:   0%|          | 0/32 [00:00<?, ?it/s]"
      ]
     },
     "metadata": {},
     "output_type": "display_data"
    },
    {
     "name": "stdout",
     "output_type": "stream",
     "text": [
      "Epoch 39 - Train loss: 0.06379 - Val loss: 0.06769\n"
     ]
    },
    {
     "data": {
      "application/vnd.jupyter.widget-view+json": {
       "model_id": "d491aac64a52497389abecee120f239e",
       "version_major": 2,
       "version_minor": 0
      },
      "text/plain": [
       "* Epoch 40 - Training batches:   0%|          | 0/293 [00:00<?, ?it/s]"
      ]
     },
     "metadata": {},
     "output_type": "display_data"
    },
    {
     "data": {
      "application/vnd.jupyter.widget-view+json": {
       "model_id": "5f65482a92ee4512af00d5779046a3b5",
       "version_major": 2,
       "version_minor": 0
      },
      "text/plain": [
       "* Epoch 40 - Validation batches:   0%|          | 0/32 [00:00<?, ?it/s]"
      ]
     },
     "metadata": {},
     "output_type": "display_data"
    },
    {
     "name": "stdout",
     "output_type": "stream",
     "text": [
      "Epoch 40 - Train loss: 0.05913 - Val loss: 0.06066\n"
     ]
    },
    {
     "data": {
      "application/vnd.jupyter.widget-view+json": {
       "model_id": "2263686107454774a5320cad2f64ecc2",
       "version_major": 2,
       "version_minor": 0
      },
      "text/plain": [
       "* Epoch 41 - Training batches:   0%|          | 0/293 [00:00<?, ?it/s]"
      ]
     },
     "metadata": {},
     "output_type": "display_data"
    },
    {
     "data": {
      "application/vnd.jupyter.widget-view+json": {
       "model_id": "b4fafb0875714541af8b8b2272448707",
       "version_major": 2,
       "version_minor": 0
      },
      "text/plain": [
       "* Epoch 41 - Validation batches:   0%|          | 0/32 [00:00<?, ?it/s]"
      ]
     },
     "metadata": {},
     "output_type": "display_data"
    },
    {
     "name": "stdout",
     "output_type": "stream",
     "text": [
      "Epoch 41 - Train loss: 0.05127 - Val loss: 0.05241\n"
     ]
    },
    {
     "data": {
      "application/vnd.jupyter.widget-view+json": {
       "model_id": "8319c0329981463898376f9c7820d8ed",
       "version_major": 2,
       "version_minor": 0
      },
      "text/plain": [
       "* Epoch 42 - Training batches:   0%|          | 0/293 [00:00<?, ?it/s]"
      ]
     },
     "metadata": {},
     "output_type": "display_data"
    },
    {
     "data": {
      "application/vnd.jupyter.widget-view+json": {
       "model_id": "c1e2ca84d42a42518719f2306730f658",
       "version_major": 2,
       "version_minor": 0
      },
      "text/plain": [
       "* Epoch 42 - Validation batches:   0%|          | 0/32 [00:00<?, ?it/s]"
      ]
     },
     "metadata": {},
     "output_type": "display_data"
    },
    {
     "name": "stdout",
     "output_type": "stream",
     "text": [
      "Epoch 42 - Train loss: 0.04342 - Val loss: 0.04749\n"
     ]
    },
    {
     "data": {
      "application/vnd.jupyter.widget-view+json": {
       "model_id": "c95628b441bc42e1ba83427bb2229d88",
       "version_major": 2,
       "version_minor": 0
      },
      "text/plain": [
       "* Epoch 43 - Training batches:   0%|          | 0/293 [00:00<?, ?it/s]"
      ]
     },
     "metadata": {},
     "output_type": "display_data"
    },
    {
     "data": {
      "application/vnd.jupyter.widget-view+json": {
       "model_id": "27c7fd9a47a146b4879a22d719494379",
       "version_major": 2,
       "version_minor": 0
      },
      "text/plain": [
       "* Epoch 43 - Validation batches:   0%|          | 0/32 [00:00<?, ?it/s]"
      ]
     },
     "metadata": {},
     "output_type": "display_data"
    },
    {
     "name": "stdout",
     "output_type": "stream",
     "text": [
      "Epoch 43 - Train loss: 0.04134 - Val loss: 0.04548\n"
     ]
    },
    {
     "data": {
      "application/vnd.jupyter.widget-view+json": {
       "model_id": "2bde8a437cc347edb1d2bdedb7316c83",
       "version_major": 2,
       "version_minor": 0
      },
      "text/plain": [
       "* Epoch 44 - Training batches:   0%|          | 0/293 [00:00<?, ?it/s]"
      ]
     },
     "metadata": {},
     "output_type": "display_data"
    },
    {
     "data": {
      "application/vnd.jupyter.widget-view+json": {
       "model_id": "86dbe27a04174c289a7ed076d8d89a95",
       "version_major": 2,
       "version_minor": 0
      },
      "text/plain": [
       "* Epoch 44 - Validation batches:   0%|          | 0/32 [00:00<?, ?it/s]"
      ]
     },
     "metadata": {},
     "output_type": "display_data"
    },
    {
     "name": "stdout",
     "output_type": "stream",
     "text": [
      "Epoch 44 - Train loss: 0.03980 - Val loss: 0.04413\n"
     ]
    },
    {
     "data": {
      "application/vnd.jupyter.widget-view+json": {
       "model_id": "04699f3bf84943998e992d5039837ca9",
       "version_major": 2,
       "version_minor": 0
      },
      "text/plain": [
       "* Epoch 45 - Training batches:   0%|          | 0/293 [00:00<?, ?it/s]"
      ]
     },
     "metadata": {},
     "output_type": "display_data"
    },
    {
     "data": {
      "application/vnd.jupyter.widget-view+json": {
       "model_id": "ceec16aecd62421fa99c89825aac29ef",
       "version_major": 2,
       "version_minor": 0
      },
      "text/plain": [
       "* Epoch 45 - Validation batches:   0%|          | 0/32 [00:00<?, ?it/s]"
      ]
     },
     "metadata": {},
     "output_type": "display_data"
    },
    {
     "name": "stdout",
     "output_type": "stream",
     "text": [
      "Epoch 45 - Train loss: 0.03876 - Val loss: 0.04251\n"
     ]
    },
    {
     "data": {
      "application/vnd.jupyter.widget-view+json": {
       "model_id": "499cf3aa5e71461b935fc5d21d67196f",
       "version_major": 2,
       "version_minor": 0
      },
      "text/plain": [
       "* Epoch 46 - Training batches:   0%|          | 0/293 [00:00<?, ?it/s]"
      ]
     },
     "metadata": {},
     "output_type": "display_data"
    },
    {
     "data": {
      "application/vnd.jupyter.widget-view+json": {
       "model_id": "822ec71b84f24619b1789a3696191428",
       "version_major": 2,
       "version_minor": 0
      },
      "text/plain": [
       "* Epoch 46 - Validation batches:   0%|          | 0/32 [00:00<?, ?it/s]"
      ]
     },
     "metadata": {},
     "output_type": "display_data"
    },
    {
     "name": "stdout",
     "output_type": "stream",
     "text": [
      "Epoch 46 - Train loss: 0.03763 - Val loss: 0.04176\n"
     ]
    },
    {
     "data": {
      "application/vnd.jupyter.widget-view+json": {
       "model_id": "f73ea5a7b9254c22a576e7208a7917d3",
       "version_major": 2,
       "version_minor": 0
      },
      "text/plain": [
       "* Epoch 47 - Training batches:   0%|          | 0/293 [00:00<?, ?it/s]"
      ]
     },
     "metadata": {},
     "output_type": "display_data"
    },
    {
     "data": {
      "application/vnd.jupyter.widget-view+json": {
       "model_id": "8d93bf19868944a9ab124afa1c6313ea",
       "version_major": 2,
       "version_minor": 0
      },
      "text/plain": [
       "* Epoch 47 - Validation batches:   0%|          | 0/32 [00:00<?, ?it/s]"
      ]
     },
     "metadata": {},
     "output_type": "display_data"
    },
    {
     "name": "stdout",
     "output_type": "stream",
     "text": [
      "Epoch 47 - Train loss: 0.03742 - Val loss: 0.04063\n"
     ]
    },
    {
     "data": {
      "application/vnd.jupyter.widget-view+json": {
       "model_id": "7b91860846f54795b0532b5b5e1e6638",
       "version_major": 2,
       "version_minor": 0
      },
      "text/plain": [
       "* Epoch 48 - Training batches:   0%|          | 0/293 [00:00<?, ?it/s]"
      ]
     },
     "metadata": {},
     "output_type": "display_data"
    },
    {
     "data": {
      "application/vnd.jupyter.widget-view+json": {
       "model_id": "32e44623446c44348038d39ecfbf5ccf",
       "version_major": 2,
       "version_minor": 0
      },
      "text/plain": [
       "* Epoch 48 - Validation batches:   0%|          | 0/32 [00:00<?, ?it/s]"
      ]
     },
     "metadata": {},
     "output_type": "display_data"
    },
    {
     "name": "stdout",
     "output_type": "stream",
     "text": [
      "Epoch 48 - Train loss: 0.03655 - Val loss: 0.04013\n"
     ]
    },
    {
     "data": {
      "application/vnd.jupyter.widget-view+json": {
       "model_id": "d54a256281a94c2da655204c2eda1105",
       "version_major": 2,
       "version_minor": 0
      },
      "text/plain": [
       "* Epoch 49 - Training batches:   0%|          | 0/293 [00:00<?, ?it/s]"
      ]
     },
     "metadata": {},
     "output_type": "display_data"
    },
    {
     "data": {
      "application/vnd.jupyter.widget-view+json": {
       "model_id": "badc8e2c365e49b396dc3a91e0baf227",
       "version_major": 2,
       "version_minor": 0
      },
      "text/plain": [
       "* Epoch 49 - Validation batches:   0%|          | 0/32 [00:00<?, ?it/s]"
      ]
     },
     "metadata": {},
     "output_type": "display_data"
    },
    {
     "name": "stdout",
     "output_type": "stream",
     "text": [
      "Epoch 49 - Train loss: 0.03526 - Val loss: 0.03971\n"
     ]
    },
    {
     "data": {
      "application/vnd.jupyter.widget-view+json": {
       "model_id": "db320fd884dd453ea85a4687cb17297c",
       "version_major": 2,
       "version_minor": 0
      },
      "text/plain": [
       "* Epoch 50 - Training batches:   0%|          | 0/293 [00:00<?, ?it/s]"
      ]
     },
     "metadata": {},
     "output_type": "display_data"
    },
    {
     "data": {
      "application/vnd.jupyter.widget-view+json": {
       "model_id": "856f060b02c14b979eb2ed83acf241d8",
       "version_major": 2,
       "version_minor": 0
      },
      "text/plain": [
       "* Epoch 50 - Validation batches:   0%|          | 0/32 [00:00<?, ?it/s]"
      ]
     },
     "metadata": {},
     "output_type": "display_data"
    },
    {
     "name": "stdout",
     "output_type": "stream",
     "text": [
      "Epoch 50 - Train loss: 0.03456 - Val loss: 0.04040\n"
     ]
    },
    {
     "data": {
      "application/vnd.jupyter.widget-view+json": {
       "model_id": "08ed39f3a0d942959b31109d254e9411",
       "version_major": 2,
       "version_minor": 0
      },
      "text/plain": [
       "* Epoch 51 - Training batches:   0%|          | 0/293 [00:00<?, ?it/s]"
      ]
     },
     "metadata": {},
     "output_type": "display_data"
    },
    {
     "data": {
      "application/vnd.jupyter.widget-view+json": {
       "model_id": "895de905e25b4df8b0fa2715a8b805d4",
       "version_major": 2,
       "version_minor": 0
      },
      "text/plain": [
       "* Epoch 51 - Validation batches:   0%|          | 0/32 [00:00<?, ?it/s]"
      ]
     },
     "metadata": {},
     "output_type": "display_data"
    },
    {
     "name": "stdout",
     "output_type": "stream",
     "text": [
      "Epoch 51 - Train loss: 0.03493 - Val loss: 0.03800\n"
     ]
    },
    {
     "data": {
      "application/vnd.jupyter.widget-view+json": {
       "model_id": "4c40d1365e9e4f3f94bbbcebe5c0d521",
       "version_major": 2,
       "version_minor": 0
      },
      "text/plain": [
       "* Epoch 52 - Training batches:   0%|          | 0/293 [00:00<?, ?it/s]"
      ]
     },
     "metadata": {},
     "output_type": "display_data"
    },
    {
     "data": {
      "application/vnd.jupyter.widget-view+json": {
       "model_id": "165ccc6d5aa9402f8857b4edc3439c72",
       "version_major": 2,
       "version_minor": 0
      },
      "text/plain": [
       "* Epoch 52 - Validation batches:   0%|          | 0/32 [00:00<?, ?it/s]"
      ]
     },
     "metadata": {},
     "output_type": "display_data"
    },
    {
     "name": "stdout",
     "output_type": "stream",
     "text": [
      "Epoch 52 - Train loss: 0.03416 - Val loss: 0.03775\n"
     ]
    },
    {
     "data": {
      "application/vnd.jupyter.widget-view+json": {
       "model_id": "64f1bddd40d044ceb4f1bf8346ef3859",
       "version_major": 2,
       "version_minor": 0
      },
      "text/plain": [
       "* Epoch 53 - Training batches:   0%|          | 0/293 [00:00<?, ?it/s]"
      ]
     },
     "metadata": {},
     "output_type": "display_data"
    },
    {
     "data": {
      "application/vnd.jupyter.widget-view+json": {
       "model_id": "65ff44543e52497c9f28485932210979",
       "version_major": 2,
       "version_minor": 0
      },
      "text/plain": [
       "* Epoch 53 - Validation batches:   0%|          | 0/32 [00:00<?, ?it/s]"
      ]
     },
     "metadata": {},
     "output_type": "display_data"
    },
    {
     "name": "stdout",
     "output_type": "stream",
     "text": [
      "Epoch 53 - Train loss: 0.03338 - Val loss: 0.03731\n"
     ]
    },
    {
     "data": {
      "application/vnd.jupyter.widget-view+json": {
       "model_id": "a30073dd1e8b41e89505f41dbffd42f2",
       "version_major": 2,
       "version_minor": 0
      },
      "text/plain": [
       "* Epoch 54 - Training batches:   0%|          | 0/293 [00:00<?, ?it/s]"
      ]
     },
     "metadata": {},
     "output_type": "display_data"
    },
    {
     "data": {
      "application/vnd.jupyter.widget-view+json": {
       "model_id": "2d5a342a5f16471196875f4087ca42a6",
       "version_major": 2,
       "version_minor": 0
      },
      "text/plain": [
       "* Epoch 54 - Validation batches:   0%|          | 0/32 [00:00<?, ?it/s]"
      ]
     },
     "metadata": {},
     "output_type": "display_data"
    },
    {
     "name": "stdout",
     "output_type": "stream",
     "text": [
      "Epoch 54 - Train loss: 0.03347 - Val loss: 0.03669\n"
     ]
    },
    {
     "data": {
      "application/vnd.jupyter.widget-view+json": {
       "model_id": "e064bc6291714753951116f1ceb5a815",
       "version_major": 2,
       "version_minor": 0
      },
      "text/plain": [
       "* Epoch 55 - Training batches:   0%|          | 0/293 [00:00<?, ?it/s]"
      ]
     },
     "metadata": {},
     "output_type": "display_data"
    },
    {
     "data": {
      "application/vnd.jupyter.widget-view+json": {
       "model_id": "e7f319d01723464981a0f285b9b131dc",
       "version_major": 2,
       "version_minor": 0
      },
      "text/plain": [
       "* Epoch 55 - Validation batches:   0%|          | 0/32 [00:00<?, ?it/s]"
      ]
     },
     "metadata": {},
     "output_type": "display_data"
    },
    {
     "name": "stdout",
     "output_type": "stream",
     "text": [
      "Epoch 55 - Train loss: 0.03261 - Val loss: 0.03643\n"
     ]
    },
    {
     "data": {
      "application/vnd.jupyter.widget-view+json": {
       "model_id": "99c974f214fd4ca6a03bd140950d75e6",
       "version_major": 2,
       "version_minor": 0
      },
      "text/plain": [
       "* Epoch 56 - Training batches:   0%|          | 0/293 [00:00<?, ?it/s]"
      ]
     },
     "metadata": {},
     "output_type": "display_data"
    },
    {
     "data": {
      "application/vnd.jupyter.widget-view+json": {
       "model_id": "85cba6ea714d43529f539e449279dd6d",
       "version_major": 2,
       "version_minor": 0
      },
      "text/plain": [
       "* Epoch 56 - Validation batches:   0%|          | 0/32 [00:00<?, ?it/s]"
      ]
     },
     "metadata": {},
     "output_type": "display_data"
    },
    {
     "name": "stdout",
     "output_type": "stream",
     "text": [
      "Epoch 56 - Train loss: 0.03270 - Val loss: 0.03599\n"
     ]
    },
    {
     "data": {
      "application/vnd.jupyter.widget-view+json": {
       "model_id": "b2b7e9493a1e4abf8e4c0fce131f796c",
       "version_major": 2,
       "version_minor": 0
      },
      "text/plain": [
       "* Epoch 57 - Training batches:   0%|          | 0/293 [00:00<?, ?it/s]"
      ]
     },
     "metadata": {},
     "output_type": "display_data"
    },
    {
     "data": {
      "application/vnd.jupyter.widget-view+json": {
       "model_id": "5b7605d7147045a5a29f47cb347ababf",
       "version_major": 2,
       "version_minor": 0
      },
      "text/plain": [
       "* Epoch 57 - Validation batches:   0%|          | 0/32 [00:00<?, ?it/s]"
      ]
     },
     "metadata": {},
     "output_type": "display_data"
    },
    {
     "name": "stdout",
     "output_type": "stream",
     "text": [
      "Epoch 57 - Train loss: 0.03218 - Val loss: 0.03510\n"
     ]
    },
    {
     "data": {
      "application/vnd.jupyter.widget-view+json": {
       "model_id": "369a9ab72a5546fbb3b69e7c107ef758",
       "version_major": 2,
       "version_minor": 0
      },
      "text/plain": [
       "* Epoch 58 - Training batches:   0%|          | 0/293 [00:00<?, ?it/s]"
      ]
     },
     "metadata": {},
     "output_type": "display_data"
    },
    {
     "data": {
      "application/vnd.jupyter.widget-view+json": {
       "model_id": "9ee46432fe1942fc9feea6a06f45cbc9",
       "version_major": 2,
       "version_minor": 0
      },
      "text/plain": [
       "* Epoch 58 - Validation batches:   0%|          | 0/32 [00:00<?, ?it/s]"
      ]
     },
     "metadata": {},
     "output_type": "display_data"
    },
    {
     "name": "stdout",
     "output_type": "stream",
     "text": [
      "Epoch 58 - Train loss: 0.03177 - Val loss: 0.03492\n"
     ]
    },
    {
     "data": {
      "application/vnd.jupyter.widget-view+json": {
       "model_id": "1d56031e8708479abd0c26b1c7b5d80d",
       "version_major": 2,
       "version_minor": 0
      },
      "text/plain": [
       "* Epoch 59 - Training batches:   0%|          | 0/293 [00:00<?, ?it/s]"
      ]
     },
     "metadata": {},
     "output_type": "display_data"
    },
    {
     "data": {
      "application/vnd.jupyter.widget-view+json": {
       "model_id": "1ee597d8507f46e7bcc0aa3db3ec501a",
       "version_major": 2,
       "version_minor": 0
      },
      "text/plain": [
       "* Epoch 59 - Validation batches:   0%|          | 0/32 [00:00<?, ?it/s]"
      ]
     },
     "metadata": {},
     "output_type": "display_data"
    },
    {
     "name": "stdout",
     "output_type": "stream",
     "text": [
      "Epoch 59 - Train loss: 0.03139 - Val loss: 0.03486\n"
     ]
    },
    {
     "data": {
      "application/vnd.jupyter.widget-view+json": {
       "model_id": "3af02013fefd43c8817baa3b18e9b8fd",
       "version_major": 2,
       "version_minor": 0
      },
      "text/plain": [
       "* Epoch 60 - Training batches:   0%|          | 0/293 [00:00<?, ?it/s]"
      ]
     },
     "metadata": {},
     "output_type": "display_data"
    },
    {
     "data": {
      "application/vnd.jupyter.widget-view+json": {
       "model_id": "4c3e55d230f240c5b3d8efda69c3401e",
       "version_major": 2,
       "version_minor": 0
      },
      "text/plain": [
       "* Epoch 60 - Validation batches:   0%|          | 0/32 [00:00<?, ?it/s]"
      ]
     },
     "metadata": {},
     "output_type": "display_data"
    },
    {
     "name": "stdout",
     "output_type": "stream",
     "text": [
      "Epoch 60 - Train loss: 0.03120 - Val loss: 0.03531\n"
     ]
    },
    {
     "data": {
      "application/vnd.jupyter.widget-view+json": {
       "model_id": "9acf2cdcc95f41a8a41a8568c1386fcd",
       "version_major": 2,
       "version_minor": 0
      },
      "text/plain": [
       "* Epoch 61 - Training batches:   0%|          | 0/293 [00:00<?, ?it/s]"
      ]
     },
     "metadata": {},
     "output_type": "display_data"
    },
    {
     "data": {
      "application/vnd.jupyter.widget-view+json": {
       "model_id": "95336ce62a8949f1aa75d583d4050cf0",
       "version_major": 2,
       "version_minor": 0
      },
      "text/plain": [
       "* Epoch 61 - Validation batches:   0%|          | 0/32 [00:00<?, ?it/s]"
      ]
     },
     "metadata": {},
     "output_type": "display_data"
    },
    {
     "name": "stdout",
     "output_type": "stream",
     "text": [
      "Epoch 61 - Train loss: 0.03121 - Val loss: 0.03452\n"
     ]
    },
    {
     "data": {
      "application/vnd.jupyter.widget-view+json": {
       "model_id": "bc32fb0aca37459ca854d2cc2915670b",
       "version_major": 2,
       "version_minor": 0
      },
      "text/plain": [
       "* Epoch 62 - Training batches:   0%|          | 0/293 [00:00<?, ?it/s]"
      ]
     },
     "metadata": {},
     "output_type": "display_data"
    },
    {
     "data": {
      "application/vnd.jupyter.widget-view+json": {
       "model_id": "2594d310666a4d8288e16bca80646be3",
       "version_major": 2,
       "version_minor": 0
      },
      "text/plain": [
       "* Epoch 62 - Validation batches:   0%|          | 0/32 [00:00<?, ?it/s]"
      ]
     },
     "metadata": {},
     "output_type": "display_data"
    },
    {
     "name": "stdout",
     "output_type": "stream",
     "text": [
      "Epoch 62 - Train loss: 0.03099 - Val loss: 0.03415\n"
     ]
    },
    {
     "data": {
      "application/vnd.jupyter.widget-view+json": {
       "model_id": "6d0f0cd92a9c464ca0e1d2648371d294",
       "version_major": 2,
       "version_minor": 0
      },
      "text/plain": [
       "* Epoch 63 - Training batches:   0%|          | 0/293 [00:00<?, ?it/s]"
      ]
     },
     "metadata": {},
     "output_type": "display_data"
    },
    {
     "data": {
      "application/vnd.jupyter.widget-view+json": {
       "model_id": "58921bfcc938430193c2e6a0d4adac8a",
       "version_major": 2,
       "version_minor": 0
      },
      "text/plain": [
       "* Epoch 63 - Validation batches:   0%|          | 0/32 [00:00<?, ?it/s]"
      ]
     },
     "metadata": {},
     "output_type": "display_data"
    },
    {
     "name": "stdout",
     "output_type": "stream",
     "text": [
      "Epoch 63 - Train loss: 0.03045 - Val loss: 0.03425\n"
     ]
    },
    {
     "data": {
      "application/vnd.jupyter.widget-view+json": {
       "model_id": "76c876c300cf4c6092950e0cb8492e59",
       "version_major": 2,
       "version_minor": 0
      },
      "text/plain": [
       "* Epoch 64 - Training batches:   0%|          | 0/293 [00:00<?, ?it/s]"
      ]
     },
     "metadata": {},
     "output_type": "display_data"
    },
    {
     "data": {
      "application/vnd.jupyter.widget-view+json": {
       "model_id": "af0499d0e7664417b1423e6f386af8cb",
       "version_major": 2,
       "version_minor": 0
      },
      "text/plain": [
       "* Epoch 64 - Validation batches:   0%|          | 0/32 [00:00<?, ?it/s]"
      ]
     },
     "metadata": {},
     "output_type": "display_data"
    },
    {
     "name": "stdout",
     "output_type": "stream",
     "text": [
      "Epoch 64 - Train loss: 0.03011 - Val loss: 0.03417\n"
     ]
    },
    {
     "data": {
      "application/vnd.jupyter.widget-view+json": {
       "model_id": "9658af2c6e3e4e16b321e60899c07dcb",
       "version_major": 2,
       "version_minor": 0
      },
      "text/plain": [
       "* Epoch 65 - Training batches:   0%|          | 0/293 [00:00<?, ?it/s]"
      ]
     },
     "metadata": {},
     "output_type": "display_data"
    },
    {
     "data": {
      "application/vnd.jupyter.widget-view+json": {
       "model_id": "ef066c8b4e7b42959b4be851e010b707",
       "version_major": 2,
       "version_minor": 0
      },
      "text/plain": [
       "* Epoch 65 - Validation batches:   0%|          | 0/32 [00:00<?, ?it/s]"
      ]
     },
     "metadata": {},
     "output_type": "display_data"
    },
    {
     "name": "stdout",
     "output_type": "stream",
     "text": [
      "Epoch 65 - Train loss: 0.03006 - Val loss: 0.03318\n"
     ]
    },
    {
     "data": {
      "application/vnd.jupyter.widget-view+json": {
       "model_id": "b52f916db5494c3c9529f315d58294ef",
       "version_major": 2,
       "version_minor": 0
      },
      "text/plain": [
       "* Epoch 66 - Training batches:   0%|          | 0/293 [00:00<?, ?it/s]"
      ]
     },
     "metadata": {},
     "output_type": "display_data"
    },
    {
     "data": {
      "application/vnd.jupyter.widget-view+json": {
       "model_id": "aa2abd6b261b4294821bf5ed9ebf6c62",
       "version_major": 2,
       "version_minor": 0
      },
      "text/plain": [
       "* Epoch 66 - Validation batches:   0%|          | 0/32 [00:00<?, ?it/s]"
      ]
     },
     "metadata": {},
     "output_type": "display_data"
    },
    {
     "name": "stdout",
     "output_type": "stream",
     "text": [
      "Epoch 66 - Train loss: 0.02968 - Val loss: 0.03282\n"
     ]
    },
    {
     "data": {
      "application/vnd.jupyter.widget-view+json": {
       "model_id": "ba857315cd9e4f778b0d4613f3d69f6c",
       "version_major": 2,
       "version_minor": 0
      },
      "text/plain": [
       "* Epoch 67 - Training batches:   0%|          | 0/293 [00:00<?, ?it/s]"
      ]
     },
     "metadata": {},
     "output_type": "display_data"
    },
    {
     "data": {
      "application/vnd.jupyter.widget-view+json": {
       "model_id": "13957a9c297747efa1b675074eb88aac",
       "version_major": 2,
       "version_minor": 0
      },
      "text/plain": [
       "* Epoch 67 - Validation batches:   0%|          | 0/32 [00:00<?, ?it/s]"
      ]
     },
     "metadata": {},
     "output_type": "display_data"
    },
    {
     "name": "stdout",
     "output_type": "stream",
     "text": [
      "Epoch 67 - Train loss: 0.02946 - Val loss: 0.03259\n"
     ]
    },
    {
     "data": {
      "application/vnd.jupyter.widget-view+json": {
       "model_id": "fa68bd4d0778440e84de4ab67eee1aab",
       "version_major": 2,
       "version_minor": 0
      },
      "text/plain": [
       "* Epoch 68 - Training batches:   0%|          | 0/293 [00:00<?, ?it/s]"
      ]
     },
     "metadata": {},
     "output_type": "display_data"
    },
    {
     "data": {
      "application/vnd.jupyter.widget-view+json": {
       "model_id": "a6d2fed0982e4e6785ef7fb99e0c19a2",
       "version_major": 2,
       "version_minor": 0
      },
      "text/plain": [
       "* Epoch 68 - Validation batches:   0%|          | 0/32 [00:00<?, ?it/s]"
      ]
     },
     "metadata": {},
     "output_type": "display_data"
    },
    {
     "name": "stdout",
     "output_type": "stream",
     "text": [
      "Epoch 68 - Train loss: 0.02970 - Val loss: 0.03231\n"
     ]
    },
    {
     "data": {
      "application/vnd.jupyter.widget-view+json": {
       "model_id": "ee5773cddc3e4673b3d511fd5bd745fb",
       "version_major": 2,
       "version_minor": 0
      },
      "text/plain": [
       "* Epoch 69 - Training batches:   0%|          | 0/293 [00:00<?, ?it/s]"
      ]
     },
     "metadata": {},
     "output_type": "display_data"
    },
    {
     "data": {
      "application/vnd.jupyter.widget-view+json": {
       "model_id": "54ee9a35fbf146aaa7e7c4d8a1fd7b56",
       "version_major": 2,
       "version_minor": 0
      },
      "text/plain": [
       "* Epoch 69 - Validation batches:   0%|          | 0/32 [00:00<?, ?it/s]"
      ]
     },
     "metadata": {},
     "output_type": "display_data"
    },
    {
     "name": "stdout",
     "output_type": "stream",
     "text": [
      "Epoch 69 - Train loss: 0.02927 - Val loss: 0.03241\n"
     ]
    },
    {
     "data": {
      "application/vnd.jupyter.widget-view+json": {
       "model_id": "645c23837b3749a48a26963fea80f67e",
       "version_major": 2,
       "version_minor": 0
      },
      "text/plain": [
       "* Epoch 70 - Training batches:   0%|          | 0/293 [00:00<?, ?it/s]"
      ]
     },
     "metadata": {},
     "output_type": "display_data"
    },
    {
     "data": {
      "application/vnd.jupyter.widget-view+json": {
       "model_id": "afe76bf29aae4c74854499fdd5a2eb4a",
       "version_major": 2,
       "version_minor": 0
      },
      "text/plain": [
       "* Epoch 70 - Validation batches:   0%|          | 0/32 [00:00<?, ?it/s]"
      ]
     },
     "metadata": {},
     "output_type": "display_data"
    },
    {
     "name": "stdout",
     "output_type": "stream",
     "text": [
      "Epoch 70 - Train loss: 0.02941 - Val loss: 0.03234\n"
     ]
    },
    {
     "data": {
      "application/vnd.jupyter.widget-view+json": {
       "model_id": "2aac1dfadf214f5ea48041c4083ee320",
       "version_major": 2,
       "version_minor": 0
      },
      "text/plain": [
       "* Epoch 71 - Training batches:   0%|          | 0/293 [00:00<?, ?it/s]"
      ]
     },
     "metadata": {},
     "output_type": "display_data"
    },
    {
     "data": {
      "application/vnd.jupyter.widget-view+json": {
       "model_id": "84fd7af4ef0140619356b4b0f1067b9c",
       "version_major": 2,
       "version_minor": 0
      },
      "text/plain": [
       "* Epoch 71 - Validation batches:   0%|          | 0/32 [00:00<?, ?it/s]"
      ]
     },
     "metadata": {},
     "output_type": "display_data"
    },
    {
     "name": "stdout",
     "output_type": "stream",
     "text": [
      "Epoch 71 - Train loss: 0.02896 - Val loss: 0.03220\n"
     ]
    },
    {
     "data": {
      "application/vnd.jupyter.widget-view+json": {
       "model_id": "3bb7f6aaba7542b396a037af92c0ecf9",
       "version_major": 2,
       "version_minor": 0
      },
      "text/plain": [
       "* Epoch 72 - Training batches:   0%|          | 0/293 [00:00<?, ?it/s]"
      ]
     },
     "metadata": {},
     "output_type": "display_data"
    },
    {
     "data": {
      "application/vnd.jupyter.widget-view+json": {
       "model_id": "c41f5ee6acc04b2ab475e3e31d93e79a",
       "version_major": 2,
       "version_minor": 0
      },
      "text/plain": [
       "* Epoch 72 - Validation batches:   0%|          | 0/32 [00:00<?, ?it/s]"
      ]
     },
     "metadata": {},
     "output_type": "display_data"
    },
    {
     "name": "stdout",
     "output_type": "stream",
     "text": [
      "Epoch 72 - Train loss: 0.02843 - Val loss: 0.03207\n"
     ]
    },
    {
     "data": {
      "application/vnd.jupyter.widget-view+json": {
       "model_id": "e7674aed48794302b99037aaabb7062e",
       "version_major": 2,
       "version_minor": 0
      },
      "text/plain": [
       "* Epoch 73 - Training batches:   0%|          | 0/293 [00:00<?, ?it/s]"
      ]
     },
     "metadata": {},
     "output_type": "display_data"
    },
    {
     "data": {
      "application/vnd.jupyter.widget-view+json": {
       "model_id": "edd52578c6854447980c1dcf36e60cda",
       "version_major": 2,
       "version_minor": 0
      },
      "text/plain": [
       "* Epoch 73 - Validation batches:   0%|          | 0/32 [00:00<?, ?it/s]"
      ]
     },
     "metadata": {},
     "output_type": "display_data"
    },
    {
     "name": "stdout",
     "output_type": "stream",
     "text": [
      "Epoch 73 - Train loss: 0.02883 - Val loss: 0.03207\n"
     ]
    },
    {
     "data": {
      "application/vnd.jupyter.widget-view+json": {
       "model_id": "e83c1f2c76174206aa771e42bf4bf0dd",
       "version_major": 2,
       "version_minor": 0
      },
      "text/plain": [
       "* Epoch 74 - Training batches:   0%|          | 0/293 [00:00<?, ?it/s]"
      ]
     },
     "metadata": {},
     "output_type": "display_data"
    },
    {
     "data": {
      "application/vnd.jupyter.widget-view+json": {
       "model_id": "8259ea544c5742e8bcfea6f83b441305",
       "version_major": 2,
       "version_minor": 0
      },
      "text/plain": [
       "* Epoch 74 - Validation batches:   0%|          | 0/32 [00:00<?, ?it/s]"
      ]
     },
     "metadata": {},
     "output_type": "display_data"
    },
    {
     "name": "stdout",
     "output_type": "stream",
     "text": [
      "Epoch 74 - Train loss: 0.02839 - Val loss: 0.03145\n"
     ]
    },
    {
     "data": {
      "application/vnd.jupyter.widget-view+json": {
       "model_id": "6065c15cb26f451787377cee2cc50c7c",
       "version_major": 2,
       "version_minor": 0
      },
      "text/plain": [
       "* Epoch 75 - Training batches:   0%|          | 0/293 [00:00<?, ?it/s]"
      ]
     },
     "metadata": {},
     "output_type": "display_data"
    },
    {
     "data": {
      "application/vnd.jupyter.widget-view+json": {
       "model_id": "f4c7d2c90311477d9cbffd124d2013f3",
       "version_major": 2,
       "version_minor": 0
      },
      "text/plain": [
       "* Epoch 75 - Validation batches:   0%|          | 0/32 [00:00<?, ?it/s]"
      ]
     },
     "metadata": {},
     "output_type": "display_data"
    },
    {
     "name": "stdout",
     "output_type": "stream",
     "text": [
      "Epoch 75 - Train loss: 0.02872 - Val loss: 0.03112\n"
     ]
    },
    {
     "data": {
      "application/vnd.jupyter.widget-view+json": {
       "model_id": "e716bd7105ad48018dd6f7578845fb16",
       "version_major": 2,
       "version_minor": 0
      },
      "text/plain": [
       "* Epoch 76 - Training batches:   0%|          | 0/293 [00:00<?, ?it/s]"
      ]
     },
     "metadata": {},
     "output_type": "display_data"
    },
    {
     "data": {
      "application/vnd.jupyter.widget-view+json": {
       "model_id": "e08c2a8ac1604d21a6b8fa15720cc379",
       "version_major": 2,
       "version_minor": 0
      },
      "text/plain": [
       "* Epoch 76 - Validation batches:   0%|          | 0/32 [00:00<?, ?it/s]"
      ]
     },
     "metadata": {},
     "output_type": "display_data"
    },
    {
     "name": "stdout",
     "output_type": "stream",
     "text": [
      "Epoch 76 - Train loss: 0.02827 - Val loss: 0.03118\n"
     ]
    },
    {
     "data": {
      "application/vnd.jupyter.widget-view+json": {
       "model_id": "99f0b8ccc68f4c8bbc53c279d7c14d85",
       "version_major": 2,
       "version_minor": 0
      },
      "text/plain": [
       "* Epoch 77 - Training batches:   0%|          | 0/293 [00:00<?, ?it/s]"
      ]
     },
     "metadata": {},
     "output_type": "display_data"
    },
    {
     "data": {
      "application/vnd.jupyter.widget-view+json": {
       "model_id": "8559604bc0964aaa9f752b178244f091",
       "version_major": 2,
       "version_minor": 0
      },
      "text/plain": [
       "* Epoch 77 - Validation batches:   0%|          | 0/32 [00:00<?, ?it/s]"
      ]
     },
     "metadata": {},
     "output_type": "display_data"
    },
    {
     "name": "stdout",
     "output_type": "stream",
     "text": [
      "Epoch 77 - Train loss: 0.02851 - Val loss: 0.03134\n"
     ]
    },
    {
     "data": {
      "application/vnd.jupyter.widget-view+json": {
       "model_id": "7abac1d795fd4fc1af27a679e6c930fa",
       "version_major": 2,
       "version_minor": 0
      },
      "text/plain": [
       "* Epoch 78 - Training batches:   0%|          | 0/293 [00:00<?, ?it/s]"
      ]
     },
     "metadata": {},
     "output_type": "display_data"
    },
    {
     "data": {
      "application/vnd.jupyter.widget-view+json": {
       "model_id": "d22879780a5a4970a249d347e8591297",
       "version_major": 2,
       "version_minor": 0
      },
      "text/plain": [
       "* Epoch 78 - Validation batches:   0%|          | 0/32 [00:00<?, ?it/s]"
      ]
     },
     "metadata": {},
     "output_type": "display_data"
    },
    {
     "name": "stdout",
     "output_type": "stream",
     "text": [
      "Epoch 78 - Train loss: 0.02784 - Val loss: 0.03074\n"
     ]
    },
    {
     "data": {
      "application/vnd.jupyter.widget-view+json": {
       "model_id": "7c0318160c314572a0a2d3053f1f952e",
       "version_major": 2,
       "version_minor": 0
      },
      "text/plain": [
       "* Epoch 79 - Training batches:   0%|          | 0/293 [00:00<?, ?it/s]"
      ]
     },
     "metadata": {},
     "output_type": "display_data"
    },
    {
     "data": {
      "application/vnd.jupyter.widget-view+json": {
       "model_id": "3f2945453d464cab9e84e3a57b00ee6a",
       "version_major": 2,
       "version_minor": 0
      },
      "text/plain": [
       "* Epoch 79 - Validation batches:   0%|          | 0/32 [00:00<?, ?it/s]"
      ]
     },
     "metadata": {},
     "output_type": "display_data"
    },
    {
     "name": "stdout",
     "output_type": "stream",
     "text": [
      "Epoch 79 - Train loss: 0.02801 - Val loss: 0.03046\n"
     ]
    },
    {
     "data": {
      "application/vnd.jupyter.widget-view+json": {
       "model_id": "e7aded83191241159188080372683dd9",
       "version_major": 2,
       "version_minor": 0
      },
      "text/plain": [
       "* Epoch 80 - Training batches:   0%|          | 0/293 [00:00<?, ?it/s]"
      ]
     },
     "metadata": {},
     "output_type": "display_data"
    },
    {
     "data": {
      "application/vnd.jupyter.widget-view+json": {
       "model_id": "3088e689cc864c2cac7c86d99b56c1d6",
       "version_major": 2,
       "version_minor": 0
      },
      "text/plain": [
       "* Epoch 80 - Validation batches:   0%|          | 0/32 [00:00<?, ?it/s]"
      ]
     },
     "metadata": {},
     "output_type": "display_data"
    },
    {
     "name": "stdout",
     "output_type": "stream",
     "text": [
      "Epoch 80 - Train loss: 0.02762 - Val loss: 0.03078\n"
     ]
    },
    {
     "data": {
      "application/vnd.jupyter.widget-view+json": {
       "model_id": "2c6d4ff2bb4541c0835c0a498491cc37",
       "version_major": 2,
       "version_minor": 0
      },
      "text/plain": [
       "* Epoch 81 - Training batches:   0%|          | 0/293 [00:00<?, ?it/s]"
      ]
     },
     "metadata": {},
     "output_type": "display_data"
    },
    {
     "data": {
      "application/vnd.jupyter.widget-view+json": {
       "model_id": "c933532252644e64a4c65f6639914f42",
       "version_major": 2,
       "version_minor": 0
      },
      "text/plain": [
       "* Epoch 81 - Validation batches:   0%|          | 0/32 [00:00<?, ?it/s]"
      ]
     },
     "metadata": {},
     "output_type": "display_data"
    },
    {
     "name": "stdout",
     "output_type": "stream",
     "text": [
      "Epoch 81 - Train loss: 0.02807 - Val loss: 0.03048\n"
     ]
    },
    {
     "data": {
      "application/vnd.jupyter.widget-view+json": {
       "model_id": "24b24f90c7e14fb4aafe42f711be1ed1",
       "version_major": 2,
       "version_minor": 0
      },
      "text/plain": [
       "* Epoch 82 - Training batches:   0%|          | 0/293 [00:00<?, ?it/s]"
      ]
     },
     "metadata": {},
     "output_type": "display_data"
    },
    {
     "data": {
      "application/vnd.jupyter.widget-view+json": {
       "model_id": "888a0ef7a90f434cab4a56819e2d2604",
       "version_major": 2,
       "version_minor": 0
      },
      "text/plain": [
       "* Epoch 82 - Validation batches:   0%|          | 0/32 [00:00<?, ?it/s]"
      ]
     },
     "metadata": {},
     "output_type": "display_data"
    },
    {
     "name": "stdout",
     "output_type": "stream",
     "text": [
      "Epoch 82 - Train loss: 0.02783 - Val loss: 0.03035\n"
     ]
    },
    {
     "data": {
      "application/vnd.jupyter.widget-view+json": {
       "model_id": "aa94cf7a1f024803ad9a51f41b17628d",
       "version_major": 2,
       "version_minor": 0
      },
      "text/plain": [
       "* Epoch 83 - Training batches:   0%|          | 0/293 [00:00<?, ?it/s]"
      ]
     },
     "metadata": {},
     "output_type": "display_data"
    },
    {
     "data": {
      "application/vnd.jupyter.widget-view+json": {
       "model_id": "c48308e2d30a4ffd9bd3c3811d946aef",
       "version_major": 2,
       "version_minor": 0
      },
      "text/plain": [
       "* Epoch 83 - Validation batches:   0%|          | 0/32 [00:00<?, ?it/s]"
      ]
     },
     "metadata": {},
     "output_type": "display_data"
    },
    {
     "name": "stdout",
     "output_type": "stream",
     "text": [
      "Epoch 83 - Train loss: 0.02761 - Val loss: 0.03035\n"
     ]
    },
    {
     "data": {
      "application/vnd.jupyter.widget-view+json": {
       "model_id": "159a921671454839bfc4d739dbe7b73a",
       "version_major": 2,
       "version_minor": 0
      },
      "text/plain": [
       "* Epoch 84 - Training batches:   0%|          | 0/293 [00:00<?, ?it/s]"
      ]
     },
     "metadata": {},
     "output_type": "display_data"
    },
    {
     "data": {
      "application/vnd.jupyter.widget-view+json": {
       "model_id": "4b0d6b09de1f41de9cb5860ca2c232a3",
       "version_major": 2,
       "version_minor": 0
      },
      "text/plain": [
       "* Epoch 84 - Validation batches:   0%|          | 0/32 [00:00<?, ?it/s]"
      ]
     },
     "metadata": {},
     "output_type": "display_data"
    },
    {
     "name": "stdout",
     "output_type": "stream",
     "text": [
      "Epoch 84 - Train loss: 0.02751 - Val loss: 0.03019\n"
     ]
    },
    {
     "data": {
      "application/vnd.jupyter.widget-view+json": {
       "model_id": "6c7380739f7843fab2aee3e3559131c2",
       "version_major": 2,
       "version_minor": 0
      },
      "text/plain": [
       "* Epoch 85 - Training batches:   0%|          | 0/293 [00:00<?, ?it/s]"
      ]
     },
     "metadata": {},
     "output_type": "display_data"
    },
    {
     "data": {
      "application/vnd.jupyter.widget-view+json": {
       "model_id": "37a7faccde7c47668b7d0013d990835d",
       "version_major": 2,
       "version_minor": 0
      },
      "text/plain": [
       "* Epoch 85 - Validation batches:   0%|          | 0/32 [00:00<?, ?it/s]"
      ]
     },
     "metadata": {},
     "output_type": "display_data"
    },
    {
     "name": "stdout",
     "output_type": "stream",
     "text": [
      "Epoch 85 - Train loss: 0.02762 - Val loss: 0.03037\n"
     ]
    },
    {
     "data": {
      "application/vnd.jupyter.widget-view+json": {
       "model_id": "c2a9085c11b14b5991562ec12445d75c",
       "version_major": 2,
       "version_minor": 0
      },
      "text/plain": [
       "* Epoch 86 - Training batches:   0%|          | 0/293 [00:00<?, ?it/s]"
      ]
     },
     "metadata": {},
     "output_type": "display_data"
    },
    {
     "data": {
      "application/vnd.jupyter.widget-view+json": {
       "model_id": "ec7e259cef094d23ba7b5c74fa94ffda",
       "version_major": 2,
       "version_minor": 0
      },
      "text/plain": [
       "* Epoch 86 - Validation batches:   0%|          | 0/32 [00:00<?, ?it/s]"
      ]
     },
     "metadata": {},
     "output_type": "display_data"
    },
    {
     "name": "stdout",
     "output_type": "stream",
     "text": [
      "Epoch 86 - Train loss: 0.02720 - Val loss: 0.03047\n"
     ]
    },
    {
     "data": {
      "application/vnd.jupyter.widget-view+json": {
       "model_id": "2661585209ce4b63b19a2b9fea2ac568",
       "version_major": 2,
       "version_minor": 0
      },
      "text/plain": [
       "* Epoch 87 - Training batches:   0%|          | 0/293 [00:00<?, ?it/s]"
      ]
     },
     "metadata": {},
     "output_type": "display_data"
    },
    {
     "data": {
      "application/vnd.jupyter.widget-view+json": {
       "model_id": "490b94ccd59d4a5385b0a96aa3fc4ab2",
       "version_major": 2,
       "version_minor": 0
      },
      "text/plain": [
       "* Epoch 87 - Validation batches:   0%|          | 0/32 [00:00<?, ?it/s]"
      ]
     },
     "metadata": {},
     "output_type": "display_data"
    },
    {
     "name": "stdout",
     "output_type": "stream",
     "text": [
      "Epoch 87 - Train loss: 0.02725 - Val loss: 0.03037\n"
     ]
    },
    {
     "data": {
      "application/vnd.jupyter.widget-view+json": {
       "model_id": "ce4b9c0b8c3a4cca855ce4bfd1a728ef",
       "version_major": 2,
       "version_minor": 0
      },
      "text/plain": [
       "* Epoch 88 - Training batches:   0%|          | 0/293 [00:00<?, ?it/s]"
      ]
     },
     "metadata": {},
     "output_type": "display_data"
    },
    {
     "data": {
      "application/vnd.jupyter.widget-view+json": {
       "model_id": "0de0f0fa38ef48fb8ed35c8d96968e7d",
       "version_major": 2,
       "version_minor": 0
      },
      "text/plain": [
       "* Epoch 88 - Validation batches:   0%|          | 0/32 [00:00<?, ?it/s]"
      ]
     },
     "metadata": {},
     "output_type": "display_data"
    },
    {
     "name": "stdout",
     "output_type": "stream",
     "text": [
      "Epoch 88 - Train loss: 0.02704 - Val loss: 0.03002\n"
     ]
    },
    {
     "data": {
      "application/vnd.jupyter.widget-view+json": {
       "model_id": "0b3274aeeb364620bd92460f1d01071c",
       "version_major": 2,
       "version_minor": 0
      },
      "text/plain": [
       "* Epoch 89 - Training batches:   0%|          | 0/293 [00:00<?, ?it/s]"
      ]
     },
     "metadata": {},
     "output_type": "display_data"
    },
    {
     "data": {
      "application/vnd.jupyter.widget-view+json": {
       "model_id": "8961a20d2fea4f448515d63fbc9fdfc1",
       "version_major": 2,
       "version_minor": 0
      },
      "text/plain": [
       "* Epoch 89 - Validation batches:   0%|          | 0/32 [00:00<?, ?it/s]"
      ]
     },
     "metadata": {},
     "output_type": "display_data"
    },
    {
     "name": "stdout",
     "output_type": "stream",
     "text": [
      "Epoch 89 - Train loss: 0.02674 - Val loss: 0.02953\n"
     ]
    },
    {
     "data": {
      "application/vnd.jupyter.widget-view+json": {
       "model_id": "d94724cb58d24e10a0463ac63bde6b83",
       "version_major": 2,
       "version_minor": 0
      },
      "text/plain": [
       "* Epoch 90 - Training batches:   0%|          | 0/293 [00:00<?, ?it/s]"
      ]
     },
     "metadata": {},
     "output_type": "display_data"
    },
    {
     "data": {
      "application/vnd.jupyter.widget-view+json": {
       "model_id": "6aea523c0eb24de39e314d45467daea0",
       "version_major": 2,
       "version_minor": 0
      },
      "text/plain": [
       "* Epoch 90 - Validation batches:   0%|          | 0/32 [00:00<?, ?it/s]"
      ]
     },
     "metadata": {},
     "output_type": "display_data"
    },
    {
     "name": "stdout",
     "output_type": "stream",
     "text": [
      "Epoch 90 - Train loss: 0.02655 - Val loss: 0.03027\n"
     ]
    },
    {
     "data": {
      "application/vnd.jupyter.widget-view+json": {
       "model_id": "f7bb096604514fdf88eb20d8189a9e41",
       "version_major": 2,
       "version_minor": 0
      },
      "text/plain": [
       "* Epoch 91 - Training batches:   0%|          | 0/293 [00:00<?, ?it/s]"
      ]
     },
     "metadata": {},
     "output_type": "display_data"
    },
    {
     "data": {
      "application/vnd.jupyter.widget-view+json": {
       "model_id": "46a7ae2c14aa43b1975fd3b874a2752b",
       "version_major": 2,
       "version_minor": 0
      },
      "text/plain": [
       "* Epoch 91 - Validation batches:   0%|          | 0/32 [00:00<?, ?it/s]"
      ]
     },
     "metadata": {},
     "output_type": "display_data"
    },
    {
     "name": "stdout",
     "output_type": "stream",
     "text": [
      "Epoch 91 - Train loss: 0.02685 - Val loss: 0.02997\n"
     ]
    },
    {
     "data": {
      "application/vnd.jupyter.widget-view+json": {
       "model_id": "dc4e43bd5d8a42329a34b8806809469e",
       "version_major": 2,
       "version_minor": 0
      },
      "text/plain": [
       "* Epoch 92 - Training batches:   0%|          | 0/293 [00:00<?, ?it/s]"
      ]
     },
     "metadata": {},
     "output_type": "display_data"
    },
    {
     "data": {
      "application/vnd.jupyter.widget-view+json": {
       "model_id": "7a2ad52f110342a8bc56df194db3adc6",
       "version_major": 2,
       "version_minor": 0
      },
      "text/plain": [
       "* Epoch 92 - Validation batches:   0%|          | 0/32 [00:00<?, ?it/s]"
      ]
     },
     "metadata": {},
     "output_type": "display_data"
    },
    {
     "name": "stdout",
     "output_type": "stream",
     "text": [
      "Epoch 92 - Train loss: 0.02646 - Val loss: 0.02899\n"
     ]
    },
    {
     "data": {
      "application/vnd.jupyter.widget-view+json": {
       "model_id": "c24b943327c147df8c3f2bbbb11bc4c0",
       "version_major": 2,
       "version_minor": 0
      },
      "text/plain": [
       "* Epoch 93 - Training batches:   0%|          | 0/293 [00:00<?, ?it/s]"
      ]
     },
     "metadata": {},
     "output_type": "display_data"
    },
    {
     "data": {
      "application/vnd.jupyter.widget-view+json": {
       "model_id": "e7c1bb26d6994306b442bf770c66db41",
       "version_major": 2,
       "version_minor": 0
      },
      "text/plain": [
       "* Epoch 93 - Validation batches:   0%|          | 0/32 [00:00<?, ?it/s]"
      ]
     },
     "metadata": {},
     "output_type": "display_data"
    },
    {
     "name": "stdout",
     "output_type": "stream",
     "text": [
      "Epoch 93 - Train loss: 0.02630 - Val loss: 0.03044\n"
     ]
    },
    {
     "data": {
      "application/vnd.jupyter.widget-view+json": {
       "model_id": "9b39a67d2da6470bbe955b73773717b4",
       "version_major": 2,
       "version_minor": 0
      },
      "text/plain": [
       "* Epoch 94 - Training batches:   0%|          | 0/293 [00:00<?, ?it/s]"
      ]
     },
     "metadata": {},
     "output_type": "display_data"
    },
    {
     "data": {
      "application/vnd.jupyter.widget-view+json": {
       "model_id": "fc5dfa0d100e46f39ac81a86b0d03a74",
       "version_major": 2,
       "version_minor": 0
      },
      "text/plain": [
       "* Epoch 94 - Validation batches:   0%|          | 0/32 [00:00<?, ?it/s]"
      ]
     },
     "metadata": {},
     "output_type": "display_data"
    },
    {
     "name": "stdout",
     "output_type": "stream",
     "text": [
      "Epoch 94 - Train loss: 0.02648 - Val loss: 0.02890\n"
     ]
    },
    {
     "data": {
      "application/vnd.jupyter.widget-view+json": {
       "model_id": "df38b9b4b6e74154bf43a101ed294ec2",
       "version_major": 2,
       "version_minor": 0
      },
      "text/plain": [
       "* Epoch 95 - Training batches:   0%|          | 0/293 [00:00<?, ?it/s]"
      ]
     },
     "metadata": {},
     "output_type": "display_data"
    },
    {
     "data": {
      "application/vnd.jupyter.widget-view+json": {
       "model_id": "c628f4f723294945825f1f9de9a81d56",
       "version_major": 2,
       "version_minor": 0
      },
      "text/plain": [
       "* Epoch 95 - Validation batches:   0%|          | 0/32 [00:00<?, ?it/s]"
      ]
     },
     "metadata": {},
     "output_type": "display_data"
    },
    {
     "name": "stdout",
     "output_type": "stream",
     "text": [
      "Epoch 95 - Train loss: 0.02632 - Val loss: 0.02891\n"
     ]
    },
    {
     "data": {
      "application/vnd.jupyter.widget-view+json": {
       "model_id": "2114725197d140b1ba8097f013afb385",
       "version_major": 2,
       "version_minor": 0
      },
      "text/plain": [
       "* Epoch 96 - Training batches:   0%|          | 0/293 [00:00<?, ?it/s]"
      ]
     },
     "metadata": {},
     "output_type": "display_data"
    },
    {
     "data": {
      "application/vnd.jupyter.widget-view+json": {
       "model_id": "562bf9789ae54553b4bb23674a7c7ba3",
       "version_major": 2,
       "version_minor": 0
      },
      "text/plain": [
       "* Epoch 96 - Validation batches:   0%|          | 0/32 [00:00<?, ?it/s]"
      ]
     },
     "metadata": {},
     "output_type": "display_data"
    },
    {
     "name": "stdout",
     "output_type": "stream",
     "text": [
      "Epoch 96 - Train loss: 0.02620 - Val loss: 0.02855\n"
     ]
    },
    {
     "data": {
      "application/vnd.jupyter.widget-view+json": {
       "model_id": "7ce590191d16492d86f6fbc861103cc9",
       "version_major": 2,
       "version_minor": 0
      },
      "text/plain": [
       "* Epoch 97 - Training batches:   0%|          | 0/293 [00:00<?, ?it/s]"
      ]
     },
     "metadata": {},
     "output_type": "display_data"
    },
    {
     "data": {
      "application/vnd.jupyter.widget-view+json": {
       "model_id": "f0688f48bd4944ec9fdafaf68c8852f3",
       "version_major": 2,
       "version_minor": 0
      },
      "text/plain": [
       "* Epoch 97 - Validation batches:   0%|          | 0/32 [00:00<?, ?it/s]"
      ]
     },
     "metadata": {},
     "output_type": "display_data"
    },
    {
     "name": "stdout",
     "output_type": "stream",
     "text": [
      "Epoch 97 - Train loss: 0.02625 - Val loss: 0.02865\n"
     ]
    },
    {
     "data": {
      "application/vnd.jupyter.widget-view+json": {
       "model_id": "57f6ccdc4bc34ef0978852a7ff3b861a",
       "version_major": 2,
       "version_minor": 0
      },
      "text/plain": [
       "* Epoch 98 - Training batches:   0%|          | 0/293 [00:00<?, ?it/s]"
      ]
     },
     "metadata": {},
     "output_type": "display_data"
    },
    {
     "data": {
      "application/vnd.jupyter.widget-view+json": {
       "model_id": "eff3895b8cc9405e82f702a94d93ef35",
       "version_major": 2,
       "version_minor": 0
      },
      "text/plain": [
       "* Epoch 98 - Validation batches:   0%|          | 0/32 [00:00<?, ?it/s]"
      ]
     },
     "metadata": {},
     "output_type": "display_data"
    },
    {
     "name": "stdout",
     "output_type": "stream",
     "text": [
      "Epoch 98 - Train loss: 0.02621 - Val loss: 0.02833\n"
     ]
    },
    {
     "data": {
      "application/vnd.jupyter.widget-view+json": {
       "model_id": "77c5ea0aea9f435ca1747b0e63b88fae",
       "version_major": 2,
       "version_minor": 0
      },
      "text/plain": [
       "* Epoch 99 - Training batches:   0%|          | 0/293 [00:00<?, ?it/s]"
      ]
     },
     "metadata": {},
     "output_type": "display_data"
    },
    {
     "data": {
      "application/vnd.jupyter.widget-view+json": {
       "model_id": "400f7e0c04f64cacabded85c69f813cd",
       "version_major": 2,
       "version_minor": 0
      },
      "text/plain": [
       "* Epoch 99 - Validation batches:   0%|          | 0/32 [00:00<?, ?it/s]"
      ]
     },
     "metadata": {},
     "output_type": "display_data"
    },
    {
     "name": "stdout",
     "output_type": "stream",
     "text": [
      "Epoch 99 - Train loss: 0.02591 - Val loss: 0.02827\n"
     ]
    },
    {
     "data": {
      "application/vnd.jupyter.widget-view+json": {
       "model_id": "65bd1988457e4e78b25763ae5571c3af",
       "version_major": 2,
       "version_minor": 0
      },
      "text/plain": [
       "* Epoch 100 - Training batches:   0%|          | 0/293 [00:00<?, ?it/s]"
      ]
     },
     "metadata": {},
     "output_type": "display_data"
    },
    {
     "data": {
      "application/vnd.jupyter.widget-view+json": {
       "model_id": "cc8d1d2023694e99838552597b2e1d92",
       "version_major": 2,
       "version_minor": 0
      },
      "text/plain": [
       "* Epoch 100 - Validation batches:   0%|          | 0/32 [00:00<?, ?it/s]"
      ]
     },
     "metadata": {},
     "output_type": "display_data"
    },
    {
     "name": "stdout",
     "output_type": "stream",
     "text": [
      "Epoch 100 - Train loss: 0.02595 - Val loss: 0.02834\n",
      "Best epoch: 100 - Best val loss: 0.02827\n"
     ]
    },
    {
     "data": {
      "image/png": "[encoded data removed]",
      "text/plain": [
       "<Figure size 1000x600 with 1 Axes>"
      ]
     },
     "metadata": {},
     "output_type": "display_data"
    },
    {
     "data": {
      "image/png": "[encoded data removed]",
      "text/plain": [
       "<Figure size 1000x600 with 1 Axes>"
      ]
     },
     "metadata": {},
     "output_type": "display_data"
    }
   ],
   "source": [
    "# Train the model\n",
    "constants_scheduler = partial(Diffusion.cosine_beta_schedule, s=0.008)\n",
    "losses_history=model_trainer.train(\n",
    "    epochs=EPOCHS,\n",
    "    timesteps=T,\n",
    "    constants_scheduler=constants_scheduler,\n",
    "    save_model_path=MODEL_SAVE_PATH,\n",
    "    save_images_path=IMAGES_SAVE_PATH,\n",
    "    save_intermediate_models=SAVE_INTERMEDIATE_MODELS,\n",
    "    verbose=VERBOSE\n",
    ")"
   ]
  }
 ],
 "metadata": {
  "kernelspec": {
   "display_name": "Python 3 (ipykernel)",
   "language": "python",
   "name": "python3"
  },
  "language_info": {
   "codemirror_mode": {
    "name": "ipython",
    "version": 3
   },
   "file_extension": ".py",
   "mimetype": "text/x-python",
   "name": "python",
   "nbconvert_exporter": "python",
   "pygments_lexer": "ipython3",
   "version": "3.12.3"
  }
 },
 "nbformat": 4,
 "nbformat_minor": 5
}
