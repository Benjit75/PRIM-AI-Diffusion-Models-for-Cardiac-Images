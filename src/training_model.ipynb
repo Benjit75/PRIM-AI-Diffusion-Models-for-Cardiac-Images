{
 "cells": [
  {
   "metadata": {},
   "cell_type": "markdown",
   "source": [
    "# Training a model from ACDC dataset\n",
    "\n",
    "**Authors :**\n",
    "* _Louis Lacroix_\n",
    "* _Benjamin Ternot_"
   ],
   "id": "d85cb06818d795a9"
  },
  {
   "metadata": {},
   "cell_type": "markdown",
   "source": "## I. Importing Libraries and Global Settings",
   "id": "6eb440fcdd4469a8"
  },
  {
   "metadata": {
    "ExecuteTime": {
     "end_time": "2024-12-24T11:05:26.388517Z",
     "start_time": "2024-12-24T11:05:25.303824Z"
    }
   },
   "cell_type": "code",
   "source": [
    "import datetime\n",
    "import gc\n",
    "import os\n",
    "import psutil\n",
    "\n",
    "import matplotlib.pyplot as plt\n",
    "\n",
    "from data_manager.datamanager import DataLoader\n",
    "from models.modeltrainer import ModelPreprocessor\n",
    "from utils.utils import VerboseLevel"
   ],
   "id": "5da660255e85029d",
   "outputs": [],
   "execution_count": 1
  },
  {
   "cell_type": "code",
   "id": "initial_id",
   "metadata": {
    "collapsed": true,
    "ExecuteTime": {
     "end_time": "2024-12-23T15:50:59.696357Z",
     "start_time": "2024-12-23T15:50:59.685461Z"
    }
   },
   "source": [
    "# Parameters to use for the preprocessing\n",
    "IMAGE_SIZE=128\n",
    "PADDING=0.2\n",
    "IMAGE_NAMES=[\"ED_gt\", \"ES_gt\"]\n",
    "LINK_GT_TO_DATA=False\n",
    "KEEP_3D_CONSISTENCY=False\n",
    "MULTI_CHANNEL=True\n",
    "RESCALE_OUTPUT_KEY=\"rescaled_image_data\"\n",
    "MAX_ANGLE=45\n",
    "NB_ROTATIONS=7\n",
    "VERBOSE=VerboseLevel.PRINT\n",
    "# VerboseLevel.NONE to avoid outputs\n",
    "# VerboseLevel.TQDM to use tqdm progress bars\n",
    "# VerboseLevel.PRINT to print information\n",
    "# VerboseLevel.DISPLAY to display images\n",
    "\n",
    "# Execution parameters\n",
    "LIBERATE_MEMORY=True\n",
    "CUDA_DEVICE = 0\n",
    "\n",
    "# Parameters for the model training\n",
    "SAVE_MODEL = True\n",
    "SAVE_INTERMEDIATE_MODELS = {\"toggle\": True, \"frequency\": 20}\n",
    "\n",
    "# Model parameters\n",
    "BATCH_SIZE = 16\n",
    "EPOCHS = 100\n",
    "T = 1000\n",
    "DIM_MULTS = (1, 2, 4, 8)"
   ],
   "outputs": [],
   "execution_count": 2
  },
  {
   "metadata": {
    "ExecuteTime": {
     "end_time": "2024-12-23T15:50:59.811132Z",
     "start_time": "2024-12-23T15:50:59.795493Z"
    }
   },
   "cell_type": "code",
   "source": [
    "# Modifier les couleurs des textes et des axes en fonction du thème de Jupyter\n",
    "DARK_BG = True\n",
    "\n",
    "if DARK_BG:\n",
    "    plt.rcParams['text.color'] = 'white'\n",
    "    plt.rcParams['axes.labelcolor'] = 'white'\n",
    "    plt.rcParams['xtick.color'] = 'white'\n",
    "    plt.rcParams['ytick.color'] = 'white'\n",
    "    plt.rcParams['axes.titlecolor'] = 'white'\n",
    "else:\n",
    "    plt.rcParams['text.color'] = 'black'\n",
    "    plt.rcParams['axes.labelcolor'] = 'black'\n",
    "    plt.rcParams['xtick.color'] = 'black'\n",
    "    plt.rcParams['ytick.color'] = 'black'\n",
    "    plt.rcParams['axes.titlecolor'] = 'black'"
   ],
   "id": "712cb98b9c7344e1",
   "outputs": [],
   "execution_count": 3
  },
  {
   "metadata": {},
   "cell_type": "markdown",
   "source": "## II. Data Loading and Preprocessing",
   "id": "35c5d30b979106fa"
  },
  {
   "metadata": {
    "ExecuteTime": {
     "end_time": "2024-12-23T15:50:59.911874Z",
     "start_time": "2024-12-23T15:50:59.889435Z"
    }
   },
   "cell_type": "code",
   "source": [
    "# Define the root data folder\n",
    "root_data_folder = os.path.join(os.path.dirname(os.getcwd()), 'database')\n",
    "\n",
    "# Define the sub path to the folders containing the data\n",
    "data_sub_folders = {\n",
    "    \"train\": \"training\",\n",
    "    \"test\": \"testing\",\n",
    "}\n",
    "\n",
    "# Define the mapping from group labels to diagnostic classes\n",
    "group_map = {\n",
    "    \"NOR\": \"Healthy control\",\n",
    "    \"MINF\": \"Myocardial infarction\",\n",
    "    \"DCM\": \"Dilated cardiomyopathy\",\n",
    "    \"HCM\": \"Hypertrophic cardiomyopathy\",\n",
    "    \"RV\": \"Abnormal right ventricle\"\n",
    "}"
   ],
   "id": "d3681fd0f7898e25",
   "outputs": [],
   "execution_count": 4
  },
  {
   "metadata": {
    "ExecuteTime": {
     "end_time": "2024-12-23T15:51:07.795506Z",
     "start_time": "2024-12-23T15:50:59.913022Z"
    }
   },
   "cell_type": "code",
   "source": [
    "# Create the data loader\n",
    "data_loader = DataLoader(root_folder=root_data_folder)\n",
    "\n",
    "# Load the data\n",
    "for key, sub_folder in data_sub_folders.items():\n",
    "    data_loader.load_data(sub_folder, name=key, store=True, verbose=VERBOSE)\n",
    "\n",
    "# Create the model trainer\n",
    "model_preprocessor = ModelPreprocessor(data_loader, group_map)"
   ],
   "id": "6d2aaa41e372e1dc",
   "outputs": [
    {
     "data": {
      "text/plain": [
       "Loading data in 'C:\\Users\\benji\\Documents\\Git-repositories\\Telecom-Paris\\3A\\PRIM-AI-Diffusion-Models-for-Cardi…"
      ],
      "application/vnd.jupyter.widget-view+json": {
       "version_major": 2,
       "version_minor": 0,
       "model_id": "372150bc114b4de1b0ec5d083987d0e2"
      }
     },
     "metadata": {},
     "output_type": "display_data"
    },
    {
     "data": {
      "text/plain": [
       "Loading data in 'C:\\Users\\benji\\Documents\\Git-repositories\\Telecom-Paris\\3A\\PRIM-AI-Diffusion-Models-for-Cardi…"
      ],
      "application/vnd.jupyter.widget-view+json": {
       "version_major": 2,
       "version_minor": 0,
       "model_id": "077623a8ab3240e48580176710f5fe2b"
      }
     },
     "metadata": {},
     "output_type": "display_data"
    }
   ],
   "execution_count": 5
  },
  {
   "metadata": {
    "ExecuteTime": {
     "end_time": "2024-12-23T15:51:24.962580Z",
     "start_time": "2024-12-23T15:51:07.815002Z"
    }
   },
   "cell_type": "code",
   "source": [
    "# Preprocess the data\n",
    "preprocessed_data = model_preprocessor.preprocess_data(\n",
    "    target_shape=(IMAGE_SIZE, IMAGE_SIZE),\n",
    "    padding=PADDING,\n",
    "    image_names=IMAGE_NAMES,\n",
    "    link_gt_to_data=LINK_GT_TO_DATA,\n",
    "    keep_3d_consistency=KEEP_3D_CONSISTENCY,\n",
    "    create_channels_from_gt=MULTI_CHANNEL,\n",
    "    rescale_output_key=RESCALE_OUTPUT_KEY,\n",
    "    max_angle=MAX_ANGLE,\n",
    "    nb_rotations=NB_ROTATIONS,\n",
    "    verbose=VERBOSE\n",
    ")"
   ],
   "id": "d8f9a2e1b84fda18",
   "outputs": [
    {
     "data": {
      "text/plain": [
       "Transforming images in 'train':   0%|          | 0/100 [00:00<?, ?it/s]"
      ],
      "application/vnd.jupyter.widget-view+json": {
       "version_major": 2,
       "version_minor": 0,
       "model_id": "31b013190db34170bb2cd0bd939bd523"
      }
     },
     "metadata": {},
     "output_type": "display_data"
    },
    {
     "data": {
      "text/plain": [
       "Transforming images in 'test':   0%|          | 0/50 [00:00<?, ?it/s]"
      ],
      "application/vnd.jupyter.widget-view+json": {
       "version_major": 2,
       "version_minor": 0,
       "model_id": "6cf81c8d9ee548a7abcd9aee821e4ef8"
      }
     },
     "metadata": {},
     "output_type": "display_data"
    },
    {
     "name": "stdout",
     "output_type": "stream",
     "text": [
      "data_loader.data\n",
      "├── train\n",
      "│\t├── patient001\n",
      "│\t│\t├── image_data\n",
      "│\t│\t│\t├── ED\n",
      "│\t│\t│\t├── ED_gt\n",
      "│\t│\t│\t├── ES\n",
      "│\t│\t│\t├── ES_gt\n",
      "│\t│\t├── height\n",
      "│\t│\t├── weight\n",
      "│\t│\t├── group\n",
      "│\t│\t├── nb_frames\n",
      "│\t│\t├── rescaled_image_data\n",
      "│\t│\t│\t├── ED_gt\n",
      "│\t│\t│\t├── ES_gt\n",
      "│\t├── patient002\n",
      "│\t│\t├── image_data\n",
      "│\t│\t│\t├── ED\n",
      "│\t│\t│\t├── ED_gt\n",
      "│\t│\t│\t├── ES\n",
      "│\t│\t│\t├── ES_gt\n",
      "│\t│\t├── height\n",
      "│\t│\t├── weight\n",
      "│\t│\t├── group\n",
      "│\t│\t├── nb_frames\n",
      "│\t│\t├── rescaled_image_data\n",
      "│\t│\t│\t├── ED_gt\n",
      "│\t│\t│\t├── ES_gt\n",
      "│\t├── patient003\n",
      "│\t│\t├── image_data\n",
      "│\t│\t│\t├── ED\n",
      "│\t│\t│\t├── ED_gt\n",
      "│\t│\t│\t├── ES\n",
      "│\t│\t│\t├── ES_gt\n",
      "│\t│\t├── height\n",
      "│\t│\t├── weight\n",
      "│\t│\t├── group\n",
      "│\t│\t├── nb_frames\n",
      "│\t│\t├── rescaled_image_data\n",
      "│\t│\t│\t├── ED_gt\n",
      "│\t│\t│\t├── ES_gt\n",
      "│\t├── patient004\n",
      "│\t│\t├── image_data\n",
      "│\t│\t│\t├── ED\n",
      "│\t│\t│\t├── ED_gt\n",
      "│\t│\t│\t├── ES\n",
      "│\t│\t│\t├── ES_gt\n",
      "│\t│\t├── height\n",
      "│\t│\t├── weight\n",
      "│\t│\t├── group\n",
      "│\t│\t├── nb_frames\n",
      "│\t│\t├── rescaled_image_data\n",
      "│\t│\t│\t├── ED_gt\n",
      "│\t│\t│\t├── ES_gt\n",
      "│\t├── patient005\n",
      "│\t│\t├── image_data\n",
      "│\t│\t│\t├── ED\n",
      "│\t│\t│\t├── ED_gt\n",
      "│\t│\t│\t├── ES\n",
      "│\t│\t│\t├── ES_gt\n",
      "│\t│\t├── height\n",
      "│\t│\t├── weight\n",
      "│\t│\t├── group\n",
      "│\t│\t├── nb_frames\n",
      "│\t│\t├── rescaled_image_data\n",
      "│\t│\t│\t├── ED_gt\n",
      "│\t│\t│\t├── ES_gt\n",
      "│\t├── patient006\n",
      "│\t│\t├── image_data\n",
      "│\t│\t│\t├── ED\n",
      "│\t│\t│\t├── ED_gt\n",
      "│\t│\t│\t├── ES\n",
      "│\t│\t│\t├── ES_gt\n",
      "│\t│\t├── height\n",
      "│\t│\t├── weight\n",
      "│\t│\t├── group\n",
      "│\t│\t├── nb_frames\n",
      "│\t│\t├── rescaled_image_data\n",
      "│\t│\t│\t├── ED_gt\n",
      "│\t│\t│\t├── ES_gt\n",
      "│\t├── patient007\n",
      "│\t│\t├── image_data\n",
      "│\t│\t│\t├── ED\n",
      "│\t│\t│\t├── ED_gt\n",
      "│\t│\t│\t├── ES\n",
      "│\t│\t│\t├── ES_gt\n",
      "│\t│\t├── height\n",
      "│\t│\t├── weight\n",
      "│\t│\t├── group\n",
      "│\t│\t├── nb_frames\n",
      "│\t│\t├── rescaled_image_data\n",
      "│\t│\t│\t├── ED_gt\n",
      "│\t│\t│\t├── ES_gt\n",
      "│\t├── ...\n",
      "├── test\n",
      "│\t├── patient101\n",
      "│\t│\t├── image_data\n",
      "│\t│\t│\t├── ED\n",
      "│\t│\t│\t├── ED_gt\n",
      "│\t│\t│\t├── ES\n",
      "│\t│\t│\t├── ES_gt\n",
      "│\t│\t├── height\n",
      "│\t│\t├── weight\n",
      "│\t│\t├── group\n",
      "│\t│\t├── nb_frames\n",
      "│\t│\t├── rescaled_image_data\n",
      "│\t│\t│\t├── ED_gt\n",
      "│\t│\t│\t├── ES_gt\n",
      "│\t├── patient102\n",
      "│\t│\t├── image_data\n",
      "│\t│\t│\t├── ED\n",
      "│\t│\t│\t├── ED_gt\n",
      "│\t│\t│\t├── ES\n",
      "│\t│\t│\t├── ES_gt\n",
      "│\t│\t├── height\n",
      "│\t│\t├── weight\n",
      "│\t│\t├── group\n",
      "│\t│\t├── nb_frames\n",
      "│\t│\t├── rescaled_image_data\n",
      "│\t│\t│\t├── ED_gt\n",
      "│\t│\t│\t├── ES_gt\n",
      "│\t├── patient103\n",
      "│\t│\t├── image_data\n",
      "│\t│\t│\t├── ED\n",
      "│\t│\t│\t├── ED_gt\n",
      "│\t│\t│\t├── ES\n",
      "│\t│\t│\t├── ES_gt\n",
      "│\t│\t├── height\n",
      "│\t│\t├── weight\n",
      "│\t│\t├── group\n",
      "│\t│\t├── nb_frames\n",
      "│\t│\t├── rescaled_image_data\n",
      "│\t│\t│\t├── ED_gt\n",
      "│\t│\t│\t├── ES_gt\n",
      "│\t├── patient104\n",
      "│\t│\t├── image_data\n",
      "│\t│\t│\t├── ED\n",
      "│\t│\t│\t├── ED_gt\n",
      "│\t│\t│\t├── ES\n",
      "│\t│\t│\t├── ES_gt\n",
      "│\t│\t├── height\n",
      "│\t│\t├── weight\n",
      "│\t│\t├── group\n",
      "│\t│\t├── nb_frames\n",
      "│\t│\t├── rescaled_image_data\n",
      "│\t│\t│\t├── ED_gt\n",
      "│\t│\t│\t├── ES_gt\n",
      "│\t├── patient105\n",
      "│\t│\t├── image_data\n",
      "│\t│\t│\t├── ED\n",
      "│\t│\t│\t├── ED_gt\n",
      "│\t│\t│\t├── ES\n",
      "│\t│\t│\t├── ES_gt\n",
      "│\t│\t├── height\n",
      "│\t│\t├── weight\n",
      "│\t│\t├── group\n",
      "│\t│\t├── nb_frames\n",
      "│\t│\t├── rescaled_image_data\n",
      "│\t│\t│\t├── ED_gt\n",
      "│\t│\t│\t├── ES_gt\n",
      "│\t├── patient106\n",
      "│\t│\t├── image_data\n",
      "│\t│\t│\t├── ED\n",
      "│\t│\t│\t├── ED_gt\n",
      "│\t│\t│\t├── ES\n",
      "│\t│\t│\t├── ES_gt\n",
      "│\t│\t├── height\n",
      "│\t│\t├── weight\n",
      "│\t│\t├── group\n",
      "│\t│\t├── nb_frames\n",
      "│\t│\t├── rescaled_image_data\n",
      "│\t│\t│\t├── ED_gt\n",
      "│\t│\t│\t├── ES_gt\n",
      "│\t├── patient107\n",
      "│\t│\t├── image_data\n",
      "│\t│\t│\t├── ED\n",
      "│\t│\t│\t├── ED_gt\n",
      "│\t│\t│\t├── ES\n",
      "│\t│\t│\t├── ES_gt\n",
      "│\t│\t├── height\n",
      "│\t│\t├── weight\n",
      "│\t│\t├── group\n",
      "│\t│\t├── nb_frames\n",
      "│\t│\t├── rescaled_image_data\n",
      "│\t│\t│\t├── ED_gt\n",
      "│\t│\t│\t├── ES_gt\n",
      "│\t├── ...\n"
     ]
    },
    {
     "data": {
      "text/plain": [
       "Extracting images in 'train':   0%|          | 0/100 [00:00<?, ?it/s]"
      ],
      "application/vnd.jupyter.widget-view+json": {
       "version_major": 2,
       "version_minor": 0,
       "model_id": "d2b67b5717c44aaf959abab73e74452c"
      }
     },
     "metadata": {},
     "output_type": "display_data"
    },
    {
     "data": {
      "text/plain": [
       "Extracting images in 'test':   0%|          | 0/50 [00:00<?, ?it/s]"
      ],
      "application/vnd.jupyter.widget-view+json": {
       "version_major": 2,
       "version_minor": 0,
       "model_id": "a69f067a00534a4d8bd8b8b2881c7d56"
      }
     },
     "metadata": {},
     "output_type": "display_data"
    },
    {
     "data": {
      "text/plain": [
       "Rotating images:   0%|          | 0/7 [00:00<?, ?it/s]"
      ],
      "application/vnd.jupyter.widget-view+json": {
       "version_major": 2,
       "version_minor": 0,
       "model_id": "5f0de9beb8084c6cb1847cd5d1b8c2bf"
      }
     },
     "metadata": {},
     "output_type": "display_data"
    },
    {
     "name": "stdout",
     "output_type": "stream",
     "text": [
      "Number of images after rotation: 2100\n"
     ]
    }
   ],
   "execution_count": 6
  },
  {
   "metadata": {
    "ExecuteTime": {
     "end_time": "2024-12-23T15:51:40.220740Z",
     "start_time": "2024-12-23T15:51:32.302971Z"
    }
   },
   "cell_type": "code",
   "source": [
    "# Liberate memory if needed\n",
    "def get_memory_usage():\n",
    "    \"\"\"Return the memory usage in MB\"\"\"\n",
    "    process = psutil.Process(os.getpid())\n",
    "    return process.memory_info().rss / 1e6\n",
    "\n",
    "if LIBERATE_MEMORY:\n",
    "    memory_before = get_memory_usage()\n",
    "    del data_loader\n",
    "    del model_preprocessor\n",
    "    gc.collect()\n",
    "    memory_after = get_memory_usage()\n",
    "    if VERBOSE >= VerboseLevel.PRINT:\n",
    "        print(f\"Memory usage before: {memory_before/1000:.4f} GB\"\n",
    "              f\"\\nMemory usage after: {memory_after/1000:.4f} GB\"\n",
    "              f\"\\nMemory liberated: {memory_before - memory_after:.2f} MB\"\n",
    "        )"
   ],
   "id": "1b8c37528cf5dfaf",
   "outputs": [
    {
     "name": "stdout",
     "output_type": "stream",
     "text": [
      "Memory usage before: 5264.88 MB\n",
      "Memory usage after: 5239.44 MB\n",
      "Memory liberated: 25.43 MB\n"
     ]
    }
   ],
   "execution_count": 7
  },
  {
   "metadata": {},
   "cell_type": "markdown",
   "source": "## III. Model Training",
   "id": "3fff972c424839db"
  },
  {
   "metadata": {},
   "cell_type": "code",
   "outputs": [],
   "execution_count": null,
   "source": [
    "# Saving paths\n",
    "current_datetime = datetime.datetime.now()\n",
    "\n",
    "IMAGES_SAVE_PATH = (f\"images/{current_datetime.strftime('%Y-%m-%d-%H-%M')}_\"\n",
    "                    + ('4-channels' if MULTI_CHANNEL else '1-channel')\n",
    "                    + \"{}\")\n",
    "MODEL_SAVE_PATH = (f\"models/trained_models/{current_datetime.strftime('%Y-%m-%d-%H-%M')}_\"\n",
    "                   + ('4-channels' if MULTI_CHANNEL else '1-channel')\n",
    "                   + \"{}\")\n",
    "PARAMS_SAVE_PATH = (f\"models/parameters/{current_datetime.strftime('%Y-%m-%d-%H-%M')}_\"\n",
    "                    + ('4-channels' if MULTI_CHANNEL else '1-channel') +\n",
    "                    \"_params.txt\")"
   ],
   "id": "78a918220892378d"
  },
  {
   "metadata": {},
   "cell_type": "code",
   "outputs": [],
   "execution_count": null,
   "source": [
    "# Write parameters to the file\n",
    "SAVE_PARAMS = {\n",
    "    \"IMAGE_SIZE\": IMAGE_SIZE,\n",
    "    \"MULTI_CHANNEL\": MULTI_CHANNEL,\n",
    "    \"BATCH_SIZE\": BATCH_SIZE,\n",
    "    \"EPOCHS\": EPOCHS,\n",
    "    \"T\": T,\n",
    "    \"DIM_MULTS\": DIM_MULTS\n",
    "}\n",
    "with open(PARAMS_SAVE_PATH, \"w\") as file:\n",
    "    for key, value in SAVE_PARAMS.items():\n",
    "        file.write(f\"{key} = {value}\\n\")\n",
    "if VERBOSE >= VerboseLevel.PRINT:\n",
    "    print(f\"Parameters saved to '{PARAMS_SAVE_PATH}'\")"
   ],
   "id": "d03e1017ea488c91"
  }
 ],
 "metadata": {
  "kernelspec": {
   "display_name": "Python 3",
   "language": "python",
   "name": "python3"
  },
  "language_info": {
   "codemirror_mode": {
    "name": "ipython",
    "version": 2
   },
   "file_extension": ".py",
   "mimetype": "text/x-python",
   "name": "python",
   "nbconvert_exporter": "python",
   "pygments_lexer": "ipython2",
   "version": "2.7.6"
  }
 },
 "nbformat": 4,
 "nbformat_minor": 5
}
